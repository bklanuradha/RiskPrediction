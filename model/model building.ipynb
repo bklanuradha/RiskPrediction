{
 "cells": [
  {
   "cell_type": "code",
   "execution_count": 1,
   "id": "5e1c2d6b",
   "metadata": {
    "scrolled": true
   },
   "outputs": [
    {
     "name": "stderr",
     "output_type": "stream",
     "text": [
      "WARNING: You are using pip version 20.2.3; however, version 22.2.2 is available.\n"
     ]
    },
    {
     "name": "stdout",
     "output_type": "stream",
     "text": [
      "Requirement already satisfied: numpy in c:\\users\\infonet computers\\appdata\\local\\programs\\python\\python39\\lib\\site-packages (1.23.4)\n"
     ]
    },
    {
     "name": "stderr",
     "output_type": "stream",
     "text": [
      "You should consider upgrading via the 'c:\\users\\infonet computers\\appdata\\local\\programs\\python\\python39\\python.exe -m pip install --upgrade pip' command.\n"
     ]
    },
    {
     "name": "stdout",
     "output_type": "stream",
     "text": [
      "Requirement already satisfied: pandas in c:\\users\\infonet computers\\appdata\\local\\programs\\python\\python39\\lib\\site-packages (1.5.0)\n",
      "Requirement already satisfied: numpy>=1.20.3; python_version < \"3.10\" in c:\\users\\infonet computers\\appdata\\local\\programs\\python\\python39\\lib\\site-packages (from pandas) (1.23.4)\n",
      "Requirement already satisfied: pytz>=2020.1 in c:\\users\\infonet computers\\appdata\\local\\programs\\python\\python39\\lib\\site-packages (from pandas) (2022.4)\n",
      "Requirement already satisfied: python-dateutil>=2.8.1 in c:\\users\\infonet computers\\appdata\\local\\programs\\python\\python39\\lib\\site-packages (from pandas) (2.8.2)\n",
      "Requirement already satisfied: six>=1.5 in c:\\users\\infonet computers\\appdata\\local\\programs\\python\\python39\\lib\\site-packages (from python-dateutil>=2.8.1->pandas) (1.16.0)\n"
     ]
    },
    {
     "name": "stderr",
     "output_type": "stream",
     "text": [
      "WARNING: You are using pip version 20.2.3; however, version 22.2.2 is available.\n",
      "You should consider upgrading via the 'c:\\users\\infonet computers\\appdata\\local\\programs\\python\\python39\\python.exe -m pip install --upgrade pip' command.\n"
     ]
    }
   ],
   "source": [
    "!pip install numpy\n",
    "!pip install pandas"
   ]
  },
  {
   "cell_type": "markdown",
   "id": "cc2c22f8",
   "metadata": {},
   "source": [
    "## Import Libraries and Dataset"
   ]
  },
  {
   "cell_type": "code",
   "execution_count": 3,
   "id": "625873af",
   "metadata": {},
   "outputs": [],
   "source": [
    "import numpy as np\n",
    "import pandas as pd"
   ]
  },
  {
   "cell_type": "code",
   "execution_count": 4,
   "id": "ab005f1c",
   "metadata": {},
   "outputs": [],
   "source": [
    "url = \"https://raw.githubusercontent.com/bklanuradha/RiskPrediction/main/RiskFactorPredictor.csv\" \n",
    "data = pd.read_csv(url, encoding='latin-1')"
   ]
  },
  {
   "cell_type": "markdown",
   "id": "3117729c",
   "metadata": {},
   "source": [
    "# Data Analysis"
   ]
  },
  {
   "cell_type": "code",
   "execution_count": 5,
   "id": "5286d68c",
   "metadata": {
    "scrolled": true
   },
   "outputs": [
    {
     "data": {
      "text/html": [
       "<div>\n",
       "<style scoped>\n",
       "    .dataframe tbody tr th:only-of-type {\n",
       "        vertical-align: middle;\n",
       "    }\n",
       "\n",
       "    .dataframe tbody tr th {\n",
       "        vertical-align: top;\n",
       "    }\n",
       "\n",
       "    .dataframe thead th {\n",
       "        text-align: right;\n",
       "    }\n",
       "</style>\n",
       "<table border=\"1\" class=\"dataframe\">\n",
       "  <thead>\n",
       "    <tr style=\"text-align: right;\">\n",
       "      <th></th>\n",
       "      <th>Timestamp</th>\n",
       "      <th>Gender</th>\n",
       "      <th>Age</th>\n",
       "      <th>Educational Qualifications</th>\n",
       "      <th>Does family have a history of substance abuse, especially from a close relative like a grandparent, parent, or sibling?</th>\n",
       "      <th>Do you live with someone who has a habit of using drugs?</th>\n",
       "      <th>Do you have friends that use drugs?</th>\n",
       "      <th>Did you grow up or are currently in an area of poverty or low socioeconomic status?</th>\n",
       "      <th>Growing up, were parents rarely around, and did they not provide much supervision, discipline, or guidance?</th>\n",
       "      <th>Growing up (or currently), did you have drugs around you that you could easily access?</th>\n",
       "      <th>Do you have a history of, or do you currently struggle with, a mental illness, such as personality disorder, Anxiety, depression, or schizophrenia?</th>\n",
       "      <th>Are you currently experiencing a significant transition in life, such as divorce, loss of a loved one, loss of a job, or changing schools?</th>\n",
       "      <th>Do you have a history of childhood trauma, such as physical, mental, or sexual abuse?</th>\n",
       "      <th>Did you start using drugs or drinking alcohol (even if it was only every once in a while) before you were a teenager?</th>\n",
       "      <th>Score (0/10)</th>\n",
       "    </tr>\n",
       "  </thead>\n",
       "  <tbody>\n",
       "    <tr>\n",
       "      <th>0</th>\n",
       "      <td>10/15/2022 6:31:03</td>\n",
       "      <td>Male</td>\n",
       "      <td>18-30</td>\n",
       "      <td>A/L</td>\n",
       "      <td>Yes</td>\n",
       "      <td>Yes</td>\n",
       "      <td>No</td>\n",
       "      <td>Yes</td>\n",
       "      <td>No</td>\n",
       "      <td>No</td>\n",
       "      <td>No</td>\n",
       "      <td>Yes</td>\n",
       "      <td>No</td>\n",
       "      <td>No</td>\n",
       "      <td>3.0</td>\n",
       "    </tr>\n",
       "    <tr>\n",
       "      <th>1</th>\n",
       "      <td>10/15/2022 6:40:05</td>\n",
       "      <td>Male</td>\n",
       "      <td>18-30</td>\n",
       "      <td>A/L</td>\n",
       "      <td>Yes</td>\n",
       "      <td>No</td>\n",
       "      <td>Yes</td>\n",
       "      <td>Yes</td>\n",
       "      <td>No</td>\n",
       "      <td>No</td>\n",
       "      <td>Yes</td>\n",
       "      <td>Yes</td>\n",
       "      <td>No</td>\n",
       "      <td>No</td>\n",
       "      <td>5.0</td>\n",
       "    </tr>\n",
       "    <tr>\n",
       "      <th>2</th>\n",
       "      <td>10/15/2022 6:47:31</td>\n",
       "      <td>Male</td>\n",
       "      <td>less than 18</td>\n",
       "      <td>O/L</td>\n",
       "      <td>Yes</td>\n",
       "      <td>No</td>\n",
       "      <td>Yes</td>\n",
       "      <td>No</td>\n",
       "      <td>No</td>\n",
       "      <td>No</td>\n",
       "      <td>Yes</td>\n",
       "      <td>No</td>\n",
       "      <td>No</td>\n",
       "      <td>Yes</td>\n",
       "      <td>4.0</td>\n",
       "    </tr>\n",
       "    <tr>\n",
       "      <th>3</th>\n",
       "      <td>10/15/2022 6:48:10</td>\n",
       "      <td>Male</td>\n",
       "      <td>18-30</td>\n",
       "      <td>A/L</td>\n",
       "      <td>No</td>\n",
       "      <td>No</td>\n",
       "      <td>Yes</td>\n",
       "      <td>No</td>\n",
       "      <td>No</td>\n",
       "      <td>No</td>\n",
       "      <td>Yes</td>\n",
       "      <td>Yes</td>\n",
       "      <td>Yes</td>\n",
       "      <td>Yes</td>\n",
       "      <td>5.0</td>\n",
       "    </tr>\n",
       "    <tr>\n",
       "      <th>4</th>\n",
       "      <td>10/15/2022 6:48:30</td>\n",
       "      <td>Female</td>\n",
       "      <td>18-30</td>\n",
       "      <td>A/L</td>\n",
       "      <td>Yes</td>\n",
       "      <td>Yes</td>\n",
       "      <td>No</td>\n",
       "      <td>Yes</td>\n",
       "      <td>No</td>\n",
       "      <td>No</td>\n",
       "      <td>Yes</td>\n",
       "      <td>Yes</td>\n",
       "      <td>No</td>\n",
       "      <td>No</td>\n",
       "      <td>5.0</td>\n",
       "    </tr>\n",
       "  </tbody>\n",
       "</table>\n",
       "</div>"
      ],
      "text/plain": [
       "            Timestamp  Gender           Age Educational Qualifications  \\\n",
       "0  10/15/2022 6:31:03    Male         18-30                        A/L   \n",
       "1  10/15/2022 6:40:05    Male         18-30                        A/L   \n",
       "2  10/15/2022 6:47:31    Male  less than 18                        O/L   \n",
       "3  10/15/2022 6:48:10    Male         18-30                        A/L   \n",
       "4  10/15/2022 6:48:30  Female         18-30                        A/L   \n",
       "\n",
       "  Does family have a history of substance abuse, especially from a close relative like a grandparent, parent, or sibling?  \\\n",
       "0                                                Yes                                                                        \n",
       "1                                                Yes                                                                        \n",
       "2                                                Yes                                                                        \n",
       "3                                                 No                                                                        \n",
       "4                                                Yes                                                                        \n",
       "\n",
       "  Do you live with someone who has a habit of using drugs?  \\\n",
       "0                                                Yes         \n",
       "1                                                 No         \n",
       "2                                                 No         \n",
       "3                                                 No         \n",
       "4                                                Yes         \n",
       "\n",
       "  Do you have friends that use drugs?  \\\n",
       "0                                  No   \n",
       "1                                 Yes   \n",
       "2                                 Yes   \n",
       "3                                 Yes   \n",
       "4                                  No   \n",
       "\n",
       "  Did you grow up or are currently in an area of poverty or low socioeconomic status?  \\\n",
       "0                                                Yes                                    \n",
       "1                                                Yes                                    \n",
       "2                                                 No                                    \n",
       "3                                                 No                                    \n",
       "4                                                Yes                                    \n",
       "\n",
       "  Growing up, were parents rarely around, and did they not provide much supervision, discipline, or guidance?  \\\n",
       "0                                                 No                                                            \n",
       "1                                                 No                                                            \n",
       "2                                                 No                                                            \n",
       "3                                                 No                                                            \n",
       "4                                                 No                                                            \n",
       "\n",
       "  Growing up (or currently), did you have drugs around you that you could easily access?  \\\n",
       "0                                                 No                                       \n",
       "1                                                 No                                       \n",
       "2                                                 No                                       \n",
       "3                                                 No                                       \n",
       "4                                                 No                                       \n",
       "\n",
       "  Do you have a history of, or do you currently struggle with, a mental illness, such as personality disorder, Anxiety, depression, or schizophrenia?  \\\n",
       "0                                                 No                                                                                                    \n",
       "1                                                Yes                                                                                                    \n",
       "2                                                Yes                                                                                                    \n",
       "3                                                Yes                                                                                                    \n",
       "4                                                Yes                                                                                                    \n",
       "\n",
       "  Are you currently experiencing a significant transition in life, such as divorce, loss of a loved one, loss of a job, or changing schools?  \\\n",
       "0                                                Yes                                                                                           \n",
       "1                                                Yes                                                                                           \n",
       "2                                                 No                                                                                           \n",
       "3                                                Yes                                                                                           \n",
       "4                                                Yes                                                                                           \n",
       "\n",
       "  Do you have a history of childhood trauma, such as physical, mental, or sexual abuse?  \\\n",
       "0                                                 No                                      \n",
       "1                                                 No                                      \n",
       "2                                                 No                                      \n",
       "3                                                Yes                                      \n",
       "4                                                 No                                      \n",
       "\n",
       "  Did you start using drugs or drinking alcohol (even if it was only every once in a while) before you were a teenager?  \\\n",
       "0                                                 No                                                                      \n",
       "1                                                 No                                                                      \n",
       "2                                                Yes                                                                      \n",
       "3                                                Yes                                                                      \n",
       "4                                                 No                                                                      \n",
       "\n",
       "   Score (0/10)  \n",
       "0           3.0  \n",
       "1           5.0  \n",
       "2           4.0  \n",
       "3           5.0  \n",
       "4           5.0  "
      ]
     },
     "execution_count": 5,
     "metadata": {},
     "output_type": "execute_result"
    }
   ],
   "source": [
    "data.head()"
   ]
  },
  {
   "cell_type": "code",
   "execution_count": 6,
   "id": "3c72c678",
   "metadata": {
    "scrolled": false
   },
   "outputs": [
    {
     "data": {
      "text/plain": [
       "(171, 15)"
      ]
     },
     "execution_count": 6,
     "metadata": {},
     "output_type": "execute_result"
    }
   ],
   "source": [
    "data.shape"
   ]
  },
  {
   "cell_type": "code",
   "execution_count": 7,
   "id": "dfee82b1",
   "metadata": {},
   "outputs": [
    {
     "data": {
      "text/html": [
       "<div>\n",
       "<style scoped>\n",
       "    .dataframe tbody tr th:only-of-type {\n",
       "        vertical-align: middle;\n",
       "    }\n",
       "\n",
       "    .dataframe tbody tr th {\n",
       "        vertical-align: top;\n",
       "    }\n",
       "\n",
       "    .dataframe thead th {\n",
       "        text-align: right;\n",
       "    }\n",
       "</style>\n",
       "<table border=\"1\" class=\"dataframe\">\n",
       "  <thead>\n",
       "    <tr style=\"text-align: right;\">\n",
       "      <th></th>\n",
       "      <th>Timestamp</th>\n",
       "      <th>Gender</th>\n",
       "      <th>Age</th>\n",
       "      <th>Educational Qualifications</th>\n",
       "      <th>Does family have a history of substance abuse, especially from a close relative like a grandparent, parent, or sibling?</th>\n",
       "      <th>Do you live with someone who has a habit of using drugs?</th>\n",
       "      <th>Do you have friends that use drugs?</th>\n",
       "      <th>Did you grow up or are currently in an area of poverty or low socioeconomic status?</th>\n",
       "      <th>Growing up, were parents rarely around, and did they not provide much supervision, discipline, or guidance?</th>\n",
       "      <th>Growing up (or currently), did you have drugs around you that you could easily access?</th>\n",
       "      <th>Do you have a history of, or do you currently struggle with, a mental illness, such as personality disorder, Anxiety, depression, or schizophrenia?</th>\n",
       "      <th>Are you currently experiencing a significant transition in life, such as divorce, loss of a loved one, loss of a job, or changing schools?</th>\n",
       "      <th>Do you have a history of childhood trauma, such as physical, mental, or sexual abuse?</th>\n",
       "      <th>Did you start using drugs or drinking alcohol (even if it was only every once in a while) before you were a teenager?</th>\n",
       "      <th>Score (0/10)</th>\n",
       "    </tr>\n",
       "  </thead>\n",
       "  <tbody>\n",
       "    <tr>\n",
       "      <th>0</th>\n",
       "      <td>False</td>\n",
       "      <td>False</td>\n",
       "      <td>False</td>\n",
       "      <td>False</td>\n",
       "      <td>False</td>\n",
       "      <td>False</td>\n",
       "      <td>False</td>\n",
       "      <td>False</td>\n",
       "      <td>False</td>\n",
       "      <td>False</td>\n",
       "      <td>False</td>\n",
       "      <td>False</td>\n",
       "      <td>False</td>\n",
       "      <td>False</td>\n",
       "      <td>False</td>\n",
       "    </tr>\n",
       "    <tr>\n",
       "      <th>1</th>\n",
       "      <td>False</td>\n",
       "      <td>False</td>\n",
       "      <td>False</td>\n",
       "      <td>False</td>\n",
       "      <td>False</td>\n",
       "      <td>False</td>\n",
       "      <td>False</td>\n",
       "      <td>False</td>\n",
       "      <td>False</td>\n",
       "      <td>False</td>\n",
       "      <td>False</td>\n",
       "      <td>False</td>\n",
       "      <td>False</td>\n",
       "      <td>False</td>\n",
       "      <td>False</td>\n",
       "    </tr>\n",
       "    <tr>\n",
       "      <th>2</th>\n",
       "      <td>False</td>\n",
       "      <td>False</td>\n",
       "      <td>False</td>\n",
       "      <td>False</td>\n",
       "      <td>False</td>\n",
       "      <td>False</td>\n",
       "      <td>False</td>\n",
       "      <td>False</td>\n",
       "      <td>False</td>\n",
       "      <td>False</td>\n",
       "      <td>False</td>\n",
       "      <td>False</td>\n",
       "      <td>False</td>\n",
       "      <td>False</td>\n",
       "      <td>False</td>\n",
       "    </tr>\n",
       "    <tr>\n",
       "      <th>3</th>\n",
       "      <td>False</td>\n",
       "      <td>False</td>\n",
       "      <td>False</td>\n",
       "      <td>False</td>\n",
       "      <td>False</td>\n",
       "      <td>False</td>\n",
       "      <td>False</td>\n",
       "      <td>False</td>\n",
       "      <td>False</td>\n",
       "      <td>False</td>\n",
       "      <td>False</td>\n",
       "      <td>False</td>\n",
       "      <td>False</td>\n",
       "      <td>False</td>\n",
       "      <td>False</td>\n",
       "    </tr>\n",
       "    <tr>\n",
       "      <th>4</th>\n",
       "      <td>False</td>\n",
       "      <td>False</td>\n",
       "      <td>False</td>\n",
       "      <td>False</td>\n",
       "      <td>False</td>\n",
       "      <td>False</td>\n",
       "      <td>False</td>\n",
       "      <td>False</td>\n",
       "      <td>False</td>\n",
       "      <td>False</td>\n",
       "      <td>False</td>\n",
       "      <td>False</td>\n",
       "      <td>False</td>\n",
       "      <td>False</td>\n",
       "      <td>False</td>\n",
       "    </tr>\n",
       "    <tr>\n",
       "      <th>...</th>\n",
       "      <td>...</td>\n",
       "      <td>...</td>\n",
       "      <td>...</td>\n",
       "      <td>...</td>\n",
       "      <td>...</td>\n",
       "      <td>...</td>\n",
       "      <td>...</td>\n",
       "      <td>...</td>\n",
       "      <td>...</td>\n",
       "      <td>...</td>\n",
       "      <td>...</td>\n",
       "      <td>...</td>\n",
       "      <td>...</td>\n",
       "      <td>...</td>\n",
       "      <td>...</td>\n",
       "    </tr>\n",
       "    <tr>\n",
       "      <th>166</th>\n",
       "      <td>False</td>\n",
       "      <td>False</td>\n",
       "      <td>False</td>\n",
       "      <td>False</td>\n",
       "      <td>False</td>\n",
       "      <td>False</td>\n",
       "      <td>False</td>\n",
       "      <td>False</td>\n",
       "      <td>False</td>\n",
       "      <td>False</td>\n",
       "      <td>False</td>\n",
       "      <td>False</td>\n",
       "      <td>False</td>\n",
       "      <td>False</td>\n",
       "      <td>False</td>\n",
       "    </tr>\n",
       "    <tr>\n",
       "      <th>167</th>\n",
       "      <td>False</td>\n",
       "      <td>False</td>\n",
       "      <td>False</td>\n",
       "      <td>False</td>\n",
       "      <td>False</td>\n",
       "      <td>False</td>\n",
       "      <td>False</td>\n",
       "      <td>False</td>\n",
       "      <td>False</td>\n",
       "      <td>False</td>\n",
       "      <td>False</td>\n",
       "      <td>False</td>\n",
       "      <td>False</td>\n",
       "      <td>False</td>\n",
       "      <td>False</td>\n",
       "    </tr>\n",
       "    <tr>\n",
       "      <th>168</th>\n",
       "      <td>False</td>\n",
       "      <td>False</td>\n",
       "      <td>False</td>\n",
       "      <td>False</td>\n",
       "      <td>False</td>\n",
       "      <td>False</td>\n",
       "      <td>False</td>\n",
       "      <td>False</td>\n",
       "      <td>False</td>\n",
       "      <td>False</td>\n",
       "      <td>False</td>\n",
       "      <td>False</td>\n",
       "      <td>False</td>\n",
       "      <td>False</td>\n",
       "      <td>False</td>\n",
       "    </tr>\n",
       "    <tr>\n",
       "      <th>169</th>\n",
       "      <td>False</td>\n",
       "      <td>False</td>\n",
       "      <td>False</td>\n",
       "      <td>False</td>\n",
       "      <td>False</td>\n",
       "      <td>False</td>\n",
       "      <td>False</td>\n",
       "      <td>False</td>\n",
       "      <td>False</td>\n",
       "      <td>False</td>\n",
       "      <td>False</td>\n",
       "      <td>False</td>\n",
       "      <td>False</td>\n",
       "      <td>False</td>\n",
       "      <td>False</td>\n",
       "    </tr>\n",
       "    <tr>\n",
       "      <th>170</th>\n",
       "      <td>False</td>\n",
       "      <td>False</td>\n",
       "      <td>False</td>\n",
       "      <td>False</td>\n",
       "      <td>False</td>\n",
       "      <td>False</td>\n",
       "      <td>False</td>\n",
       "      <td>False</td>\n",
       "      <td>False</td>\n",
       "      <td>False</td>\n",
       "      <td>False</td>\n",
       "      <td>False</td>\n",
       "      <td>False</td>\n",
       "      <td>False</td>\n",
       "      <td>False</td>\n",
       "    </tr>\n",
       "  </tbody>\n",
       "</table>\n",
       "<p>171 rows × 15 columns</p>\n",
       "</div>"
      ],
      "text/plain": [
       "     Timestamp  Gender    Age  Educational Qualifications  \\\n",
       "0        False   False  False                       False   \n",
       "1        False   False  False                       False   \n",
       "2        False   False  False                       False   \n",
       "3        False   False  False                       False   \n",
       "4        False   False  False                       False   \n",
       "..         ...     ...    ...                         ...   \n",
       "166      False   False  False                       False   \n",
       "167      False   False  False                       False   \n",
       "168      False   False  False                       False   \n",
       "169      False   False  False                       False   \n",
       "170      False   False  False                       False   \n",
       "\n",
       "     Does family have a history of substance abuse, especially from a close relative like a grandparent, parent, or sibling?  \\\n",
       "0                                                False                                                                         \n",
       "1                                                False                                                                         \n",
       "2                                                False                                                                         \n",
       "3                                                False                                                                         \n",
       "4                                                False                                                                         \n",
       "..                                                 ...                                                                         \n",
       "166                                              False                                                                         \n",
       "167                                              False                                                                         \n",
       "168                                              False                                                                         \n",
       "169                                              False                                                                         \n",
       "170                                              False                                                                         \n",
       "\n",
       "     Do you live with someone who has a habit of using drugs?  \\\n",
       "0                                                False          \n",
       "1                                                False          \n",
       "2                                                False          \n",
       "3                                                False          \n",
       "4                                                False          \n",
       "..                                                 ...          \n",
       "166                                              False          \n",
       "167                                              False          \n",
       "168                                              False          \n",
       "169                                              False          \n",
       "170                                              False          \n",
       "\n",
       "     Do you have friends that use drugs?  \\\n",
       "0                                  False   \n",
       "1                                  False   \n",
       "2                                  False   \n",
       "3                                  False   \n",
       "4                                  False   \n",
       "..                                   ...   \n",
       "166                                False   \n",
       "167                                False   \n",
       "168                                False   \n",
       "169                                False   \n",
       "170                                False   \n",
       "\n",
       "     Did you grow up or are currently in an area of poverty or low socioeconomic status?  \\\n",
       "0                                                False                                     \n",
       "1                                                False                                     \n",
       "2                                                False                                     \n",
       "3                                                False                                     \n",
       "4                                                False                                     \n",
       "..                                                 ...                                     \n",
       "166                                              False                                     \n",
       "167                                              False                                     \n",
       "168                                              False                                     \n",
       "169                                              False                                     \n",
       "170                                              False                                     \n",
       "\n",
       "     Growing up, were parents rarely around, and did they not provide much supervision, discipline, or guidance?  \\\n",
       "0                                                False                                                             \n",
       "1                                                False                                                             \n",
       "2                                                False                                                             \n",
       "3                                                False                                                             \n",
       "4                                                False                                                             \n",
       "..                                                 ...                                                             \n",
       "166                                              False                                                             \n",
       "167                                              False                                                             \n",
       "168                                              False                                                             \n",
       "169                                              False                                                             \n",
       "170                                              False                                                             \n",
       "\n",
       "     Growing up (or currently), did you have drugs around you that you could easily access?  \\\n",
       "0                                                False                                        \n",
       "1                                                False                                        \n",
       "2                                                False                                        \n",
       "3                                                False                                        \n",
       "4                                                False                                        \n",
       "..                                                 ...                                        \n",
       "166                                              False                                        \n",
       "167                                              False                                        \n",
       "168                                              False                                        \n",
       "169                                              False                                        \n",
       "170                                              False                                        \n",
       "\n",
       "     Do you have a history of, or do you currently struggle with, a mental illness, such as personality disorder, Anxiety, depression, or schizophrenia?  \\\n",
       "0                                                False                                                                                                     \n",
       "1                                                False                                                                                                     \n",
       "2                                                False                                                                                                     \n",
       "3                                                False                                                                                                     \n",
       "4                                                False                                                                                                     \n",
       "..                                                 ...                                                                                                     \n",
       "166                                              False                                                                                                     \n",
       "167                                              False                                                                                                     \n",
       "168                                              False                                                                                                     \n",
       "169                                              False                                                                                                     \n",
       "170                                              False                                                                                                     \n",
       "\n",
       "     Are you currently experiencing a significant transition in life, such as divorce, loss of a loved one, loss of a job, or changing schools?  \\\n",
       "0                                                False                                                                                            \n",
       "1                                                False                                                                                            \n",
       "2                                                False                                                                                            \n",
       "3                                                False                                                                                            \n",
       "4                                                False                                                                                            \n",
       "..                                                 ...                                                                                            \n",
       "166                                              False                                                                                            \n",
       "167                                              False                                                                                            \n",
       "168                                              False                                                                                            \n",
       "169                                              False                                                                                            \n",
       "170                                              False                                                                                            \n",
       "\n",
       "     Do you have a history of childhood trauma, such as physical, mental, or sexual abuse?  \\\n",
       "0                                                False                                       \n",
       "1                                                False                                       \n",
       "2                                                False                                       \n",
       "3                                                False                                       \n",
       "4                                                False                                       \n",
       "..                                                 ...                                       \n",
       "166                                              False                                       \n",
       "167                                              False                                       \n",
       "168                                              False                                       \n",
       "169                                              False                                       \n",
       "170                                              False                                       \n",
       "\n",
       "     Did you start using drugs or drinking alcohol (even if it was only every once in a while) before you were a teenager?  \\\n",
       "0                                                False                                                                       \n",
       "1                                                False                                                                       \n",
       "2                                                False                                                                       \n",
       "3                                                False                                                                       \n",
       "4                                                False                                                                       \n",
       "..                                                 ...                                                                       \n",
       "166                                              False                                                                       \n",
       "167                                              False                                                                       \n",
       "168                                              False                                                                       \n",
       "169                                              False                                                                       \n",
       "170                                              False                                                                       \n",
       "\n",
       "     Score (0/10)  \n",
       "0           False  \n",
       "1           False  \n",
       "2           False  \n",
       "3           False  \n",
       "4           False  \n",
       "..            ...  \n",
       "166         False  \n",
       "167         False  \n",
       "168         False  \n",
       "169         False  \n",
       "170         False  \n",
       "\n",
       "[171 rows x 15 columns]"
      ]
     },
     "execution_count": 7,
     "metadata": {},
     "output_type": "execute_result"
    }
   ],
   "source": [
    "data.isnull()"
   ]
  },
  {
   "cell_type": "code",
   "execution_count": 8,
   "id": "66a84e55",
   "metadata": {},
   "outputs": [
    {
     "data": {
      "text/plain": [
       "Timestamp                                                                                                                                              0\n",
       "Gender                                                                                                                                                 0\n",
       "Age                                                                                                                                                    0\n",
       "Educational Qualifications                                                                                                                             0\n",
       "Does family have a history of substance abuse, especially from a close relative like a grandparent, parent, or sibling?                                0\n",
       "Do you live with someone who has a habit of using drugs?                                                                                               0\n",
       "Do you have friends that use drugs?                                                                                                                    0\n",
       "Did you grow up or are currently in an area of poverty or low socioeconomic status?                                                                    0\n",
       "Growing up, were parents rarely around, and did they not provide much supervision, discipline, or guidance?                                            0\n",
       "Growing up (or currently), did you have drugs around you that you could easily access?                                                                 0\n",
       "Do you have a history of, or do you currently struggle with, a mental illness, such as personality disorder, Anxiety, depression, or schizophrenia?    0\n",
       "Are you currently experiencing a significant transition in life, such as divorce, loss of a loved one, loss of a job, or changing schools?             0\n",
       "Do you have a history of childhood trauma, such as physical, mental, or sexual abuse?                                                                  0\n",
       "Did you start using drugs or drinking alcohol (even if it was only every once in a while) before you were a teenager?                                  0\n",
       "Score (0/10)                                                                                                                                           0\n",
       "dtype: int64"
      ]
     },
     "execution_count": 8,
     "metadata": {},
     "output_type": "execute_result"
    }
   ],
   "source": [
    "data.isnull().sum()"
   ]
  },
  {
   "cell_type": "code",
   "execution_count": 9,
   "id": "32e2a62b",
   "metadata": {},
   "outputs": [
    {
     "name": "stdout",
     "output_type": "stream",
     "text": [
      "<class 'pandas.core.frame.DataFrame'>\n",
      "RangeIndex: 171 entries, 0 to 170\n",
      "Data columns (total 15 columns):\n",
      " #   Column                                                                                                                                               Non-Null Count  Dtype  \n",
      "---  ------                                                                                                                                               --------------  -----  \n",
      " 0   Timestamp                                                                                                                                            171 non-null    object \n",
      " 1   Gender                                                                                                                                               171 non-null    object \n",
      " 2   Age                                                                                                                                                  171 non-null    object \n",
      " 3   Educational Qualifications                                                                                                                           171 non-null    object \n",
      " 4   Does family have a history of substance abuse, especially from a close relative like a grandparent, parent, or sibling?                              171 non-null    object \n",
      " 5   Do you live with someone who has a habit of using drugs?                                                                                             171 non-null    object \n",
      " 6   Do you have friends that use drugs?                                                                                                                  171 non-null    object \n",
      " 7   Did you grow up or are currently in an area of poverty or low socioeconomic status?                                                                  171 non-null    object \n",
      " 8   Growing up, were parents rarely around, and did they not provide much supervision, discipline, or guidance?                                          171 non-null    object \n",
      " 9   Growing up (or currently), did you have drugs around you that you could easily access?                                                               171 non-null    object \n",
      " 10  Do you have a history of, or do you currently struggle with, a mental illness, such as personality disorder, Anxiety, depression, or schizophrenia?  171 non-null    object \n",
      " 11  Are you currently experiencing a significant transition in life, such as divorce, loss of a loved one, loss of a job, or changing schools?           171 non-null    object \n",
      " 12  Do you have a history of childhood trauma, such as physical, mental, or sexual abuse?                                                                171 non-null    object \n",
      " 13  Did you start using drugs or drinking alcohol (even if it was only every once in a while) before you were a teenager?                                171 non-null    object \n",
      " 14  Score (0/10)                                                                                                                                         171 non-null    float64\n",
      "dtypes: float64(1), object(14)\n",
      "memory usage: 20.2+ KB\n"
     ]
    }
   ],
   "source": [
    "data.info()"
   ]
  },
  {
   "cell_type": "code",
   "execution_count": 10,
   "id": "eff74636",
   "metadata": {},
   "outputs": [],
   "source": [
    "data['Score (0/10)']=data['Score (0/10)'].astype('int32')"
   ]
  },
  {
   "cell_type": "code",
   "execution_count": 11,
   "id": "4ffc6f05",
   "metadata": {
    "scrolled": true
   },
   "outputs": [
    {
     "data": {
      "text/html": [
       "<div>\n",
       "<style scoped>\n",
       "    .dataframe tbody tr th:only-of-type {\n",
       "        vertical-align: middle;\n",
       "    }\n",
       "\n",
       "    .dataframe tbody tr th {\n",
       "        vertical-align: top;\n",
       "    }\n",
       "\n",
       "    .dataframe thead th {\n",
       "        text-align: right;\n",
       "    }\n",
       "</style>\n",
       "<table border=\"1\" class=\"dataframe\">\n",
       "  <thead>\n",
       "    <tr style=\"text-align: right;\">\n",
       "      <th></th>\n",
       "      <th>Timestamp</th>\n",
       "      <th>Gender</th>\n",
       "      <th>Age</th>\n",
       "      <th>Educational Qualifications</th>\n",
       "      <th>Does family have a history of substance abuse, especially from a close relative like a grandparent, parent, or sibling?</th>\n",
       "      <th>Do you live with someone who has a habit of using drugs?</th>\n",
       "      <th>Do you have friends that use drugs?</th>\n",
       "      <th>Did you grow up or are currently in an area of poverty or low socioeconomic status?</th>\n",
       "      <th>Growing up, were parents rarely around, and did they not provide much supervision, discipline, or guidance?</th>\n",
       "      <th>Growing up (or currently), did you have drugs around you that you could easily access?</th>\n",
       "      <th>Do you have a history of, or do you currently struggle with, a mental illness, such as personality disorder, Anxiety, depression, or schizophrenia?</th>\n",
       "      <th>Are you currently experiencing a significant transition in life, such as divorce, loss of a loved one, loss of a job, or changing schools?</th>\n",
       "      <th>Do you have a history of childhood trauma, such as physical, mental, or sexual abuse?</th>\n",
       "      <th>Did you start using drugs or drinking alcohol (even if it was only every once in a while) before you were a teenager?</th>\n",
       "      <th>Score (0/10)</th>\n",
       "    </tr>\n",
       "  </thead>\n",
       "  <tbody>\n",
       "    <tr>\n",
       "      <th>0</th>\n",
       "      <td>10/15/2022 6:31:03</td>\n",
       "      <td>Male</td>\n",
       "      <td>18-30</td>\n",
       "      <td>A/L</td>\n",
       "      <td>Yes</td>\n",
       "      <td>Yes</td>\n",
       "      <td>No</td>\n",
       "      <td>Yes</td>\n",
       "      <td>No</td>\n",
       "      <td>No</td>\n",
       "      <td>No</td>\n",
       "      <td>Yes</td>\n",
       "      <td>No</td>\n",
       "      <td>No</td>\n",
       "      <td>3</td>\n",
       "    </tr>\n",
       "    <tr>\n",
       "      <th>1</th>\n",
       "      <td>10/15/2022 6:40:05</td>\n",
       "      <td>Male</td>\n",
       "      <td>18-30</td>\n",
       "      <td>A/L</td>\n",
       "      <td>Yes</td>\n",
       "      <td>No</td>\n",
       "      <td>Yes</td>\n",
       "      <td>Yes</td>\n",
       "      <td>No</td>\n",
       "      <td>No</td>\n",
       "      <td>Yes</td>\n",
       "      <td>Yes</td>\n",
       "      <td>No</td>\n",
       "      <td>No</td>\n",
       "      <td>5</td>\n",
       "    </tr>\n",
       "    <tr>\n",
       "      <th>2</th>\n",
       "      <td>10/15/2022 6:47:31</td>\n",
       "      <td>Male</td>\n",
       "      <td>less than 18</td>\n",
       "      <td>O/L</td>\n",
       "      <td>Yes</td>\n",
       "      <td>No</td>\n",
       "      <td>Yes</td>\n",
       "      <td>No</td>\n",
       "      <td>No</td>\n",
       "      <td>No</td>\n",
       "      <td>Yes</td>\n",
       "      <td>No</td>\n",
       "      <td>No</td>\n",
       "      <td>Yes</td>\n",
       "      <td>4</td>\n",
       "    </tr>\n",
       "    <tr>\n",
       "      <th>3</th>\n",
       "      <td>10/15/2022 6:48:10</td>\n",
       "      <td>Male</td>\n",
       "      <td>18-30</td>\n",
       "      <td>A/L</td>\n",
       "      <td>No</td>\n",
       "      <td>No</td>\n",
       "      <td>Yes</td>\n",
       "      <td>No</td>\n",
       "      <td>No</td>\n",
       "      <td>No</td>\n",
       "      <td>Yes</td>\n",
       "      <td>Yes</td>\n",
       "      <td>Yes</td>\n",
       "      <td>Yes</td>\n",
       "      <td>5</td>\n",
       "    </tr>\n",
       "    <tr>\n",
       "      <th>4</th>\n",
       "      <td>10/15/2022 6:48:30</td>\n",
       "      <td>Female</td>\n",
       "      <td>18-30</td>\n",
       "      <td>A/L</td>\n",
       "      <td>Yes</td>\n",
       "      <td>Yes</td>\n",
       "      <td>No</td>\n",
       "      <td>Yes</td>\n",
       "      <td>No</td>\n",
       "      <td>No</td>\n",
       "      <td>Yes</td>\n",
       "      <td>Yes</td>\n",
       "      <td>No</td>\n",
       "      <td>No</td>\n",
       "      <td>5</td>\n",
       "    </tr>\n",
       "  </tbody>\n",
       "</table>\n",
       "</div>"
      ],
      "text/plain": [
       "            Timestamp  Gender           Age Educational Qualifications  \\\n",
       "0  10/15/2022 6:31:03    Male         18-30                        A/L   \n",
       "1  10/15/2022 6:40:05    Male         18-30                        A/L   \n",
       "2  10/15/2022 6:47:31    Male  less than 18                        O/L   \n",
       "3  10/15/2022 6:48:10    Male         18-30                        A/L   \n",
       "4  10/15/2022 6:48:30  Female         18-30                        A/L   \n",
       "\n",
       "  Does family have a history of substance abuse, especially from a close relative like a grandparent, parent, or sibling?  \\\n",
       "0                                                Yes                                                                        \n",
       "1                                                Yes                                                                        \n",
       "2                                                Yes                                                                        \n",
       "3                                                 No                                                                        \n",
       "4                                                Yes                                                                        \n",
       "\n",
       "  Do you live with someone who has a habit of using drugs?  \\\n",
       "0                                                Yes         \n",
       "1                                                 No         \n",
       "2                                                 No         \n",
       "3                                                 No         \n",
       "4                                                Yes         \n",
       "\n",
       "  Do you have friends that use drugs?  \\\n",
       "0                                  No   \n",
       "1                                 Yes   \n",
       "2                                 Yes   \n",
       "3                                 Yes   \n",
       "4                                  No   \n",
       "\n",
       "  Did you grow up or are currently in an area of poverty or low socioeconomic status?  \\\n",
       "0                                                Yes                                    \n",
       "1                                                Yes                                    \n",
       "2                                                 No                                    \n",
       "3                                                 No                                    \n",
       "4                                                Yes                                    \n",
       "\n",
       "  Growing up, were parents rarely around, and did they not provide much supervision, discipline, or guidance?  \\\n",
       "0                                                 No                                                            \n",
       "1                                                 No                                                            \n",
       "2                                                 No                                                            \n",
       "3                                                 No                                                            \n",
       "4                                                 No                                                            \n",
       "\n",
       "  Growing up (or currently), did you have drugs around you that you could easily access?  \\\n",
       "0                                                 No                                       \n",
       "1                                                 No                                       \n",
       "2                                                 No                                       \n",
       "3                                                 No                                       \n",
       "4                                                 No                                       \n",
       "\n",
       "  Do you have a history of, or do you currently struggle with, a mental illness, such as personality disorder, Anxiety, depression, or schizophrenia?  \\\n",
       "0                                                 No                                                                                                    \n",
       "1                                                Yes                                                                                                    \n",
       "2                                                Yes                                                                                                    \n",
       "3                                                Yes                                                                                                    \n",
       "4                                                Yes                                                                                                    \n",
       "\n",
       "  Are you currently experiencing a significant transition in life, such as divorce, loss of a loved one, loss of a job, or changing schools?  \\\n",
       "0                                                Yes                                                                                           \n",
       "1                                                Yes                                                                                           \n",
       "2                                                 No                                                                                           \n",
       "3                                                Yes                                                                                           \n",
       "4                                                Yes                                                                                           \n",
       "\n",
       "  Do you have a history of childhood trauma, such as physical, mental, or sexual abuse?  \\\n",
       "0                                                 No                                      \n",
       "1                                                 No                                      \n",
       "2                                                 No                                      \n",
       "3                                                Yes                                      \n",
       "4                                                 No                                      \n",
       "\n",
       "  Did you start using drugs or drinking alcohol (even if it was only every once in a while) before you were a teenager?  \\\n",
       "0                                                 No                                                                      \n",
       "1                                                 No                                                                      \n",
       "2                                                Yes                                                                      \n",
       "3                                                Yes                                                                      \n",
       "4                                                 No                                                                      \n",
       "\n",
       "   Score (0/10)  \n",
       "0             3  \n",
       "1             5  \n",
       "2             4  \n",
       "3             5  \n",
       "4             5  "
      ]
     },
     "execution_count": 11,
     "metadata": {},
     "output_type": "execute_result"
    }
   ],
   "source": [
    "data.head()"
   ]
  },
  {
   "cell_type": "markdown",
   "id": "a5db9001",
   "metadata": {},
   "source": [
    "### Drop unnecessary columns"
   ]
  },
  {
   "cell_type": "code",
   "execution_count": 12,
   "id": "68c965de",
   "metadata": {},
   "outputs": [],
   "source": [
    "data = data.drop(columns=['Timestamp'])"
   ]
  },
  {
   "cell_type": "code",
   "execution_count": 13,
   "id": "7dbaad0e",
   "metadata": {
    "scrolled": true
   },
   "outputs": [
    {
     "data": {
      "text/html": [
       "<div>\n",
       "<style scoped>\n",
       "    .dataframe tbody tr th:only-of-type {\n",
       "        vertical-align: middle;\n",
       "    }\n",
       "\n",
       "    .dataframe tbody tr th {\n",
       "        vertical-align: top;\n",
       "    }\n",
       "\n",
       "    .dataframe thead th {\n",
       "        text-align: right;\n",
       "    }\n",
       "</style>\n",
       "<table border=\"1\" class=\"dataframe\">\n",
       "  <thead>\n",
       "    <tr style=\"text-align: right;\">\n",
       "      <th></th>\n",
       "      <th>Gender</th>\n",
       "      <th>Age</th>\n",
       "      <th>Educational Qualifications</th>\n",
       "      <th>Does family have a history of substance abuse, especially from a close relative like a grandparent, parent, or sibling?</th>\n",
       "      <th>Do you live with someone who has a habit of using drugs?</th>\n",
       "      <th>Do you have friends that use drugs?</th>\n",
       "      <th>Did you grow up or are currently in an area of poverty or low socioeconomic status?</th>\n",
       "      <th>Growing up, were parents rarely around, and did they not provide much supervision, discipline, or guidance?</th>\n",
       "      <th>Growing up (or currently), did you have drugs around you that you could easily access?</th>\n",
       "      <th>Do you have a history of, or do you currently struggle with, a mental illness, such as personality disorder, Anxiety, depression, or schizophrenia?</th>\n",
       "      <th>Are you currently experiencing a significant transition in life, such as divorce, loss of a loved one, loss of a job, or changing schools?</th>\n",
       "      <th>Do you have a history of childhood trauma, such as physical, mental, or sexual abuse?</th>\n",
       "      <th>Did you start using drugs or drinking alcohol (even if it was only every once in a while) before you were a teenager?</th>\n",
       "      <th>Score (0/10)</th>\n",
       "    </tr>\n",
       "  </thead>\n",
       "  <tbody>\n",
       "    <tr>\n",
       "      <th>0</th>\n",
       "      <td>Male</td>\n",
       "      <td>18-30</td>\n",
       "      <td>A/L</td>\n",
       "      <td>Yes</td>\n",
       "      <td>Yes</td>\n",
       "      <td>No</td>\n",
       "      <td>Yes</td>\n",
       "      <td>No</td>\n",
       "      <td>No</td>\n",
       "      <td>No</td>\n",
       "      <td>Yes</td>\n",
       "      <td>No</td>\n",
       "      <td>No</td>\n",
       "      <td>3</td>\n",
       "    </tr>\n",
       "    <tr>\n",
       "      <th>1</th>\n",
       "      <td>Male</td>\n",
       "      <td>18-30</td>\n",
       "      <td>A/L</td>\n",
       "      <td>Yes</td>\n",
       "      <td>No</td>\n",
       "      <td>Yes</td>\n",
       "      <td>Yes</td>\n",
       "      <td>No</td>\n",
       "      <td>No</td>\n",
       "      <td>Yes</td>\n",
       "      <td>Yes</td>\n",
       "      <td>No</td>\n",
       "      <td>No</td>\n",
       "      <td>5</td>\n",
       "    </tr>\n",
       "    <tr>\n",
       "      <th>2</th>\n",
       "      <td>Male</td>\n",
       "      <td>less than 18</td>\n",
       "      <td>O/L</td>\n",
       "      <td>Yes</td>\n",
       "      <td>No</td>\n",
       "      <td>Yes</td>\n",
       "      <td>No</td>\n",
       "      <td>No</td>\n",
       "      <td>No</td>\n",
       "      <td>Yes</td>\n",
       "      <td>No</td>\n",
       "      <td>No</td>\n",
       "      <td>Yes</td>\n",
       "      <td>4</td>\n",
       "    </tr>\n",
       "    <tr>\n",
       "      <th>3</th>\n",
       "      <td>Male</td>\n",
       "      <td>18-30</td>\n",
       "      <td>A/L</td>\n",
       "      <td>No</td>\n",
       "      <td>No</td>\n",
       "      <td>Yes</td>\n",
       "      <td>No</td>\n",
       "      <td>No</td>\n",
       "      <td>No</td>\n",
       "      <td>Yes</td>\n",
       "      <td>Yes</td>\n",
       "      <td>Yes</td>\n",
       "      <td>Yes</td>\n",
       "      <td>5</td>\n",
       "    </tr>\n",
       "    <tr>\n",
       "      <th>4</th>\n",
       "      <td>Female</td>\n",
       "      <td>18-30</td>\n",
       "      <td>A/L</td>\n",
       "      <td>Yes</td>\n",
       "      <td>Yes</td>\n",
       "      <td>No</td>\n",
       "      <td>Yes</td>\n",
       "      <td>No</td>\n",
       "      <td>No</td>\n",
       "      <td>Yes</td>\n",
       "      <td>Yes</td>\n",
       "      <td>No</td>\n",
       "      <td>No</td>\n",
       "      <td>5</td>\n",
       "    </tr>\n",
       "  </tbody>\n",
       "</table>\n",
       "</div>"
      ],
      "text/plain": [
       "   Gender           Age Educational Qualifications  \\\n",
       "0    Male         18-30                        A/L   \n",
       "1    Male         18-30                        A/L   \n",
       "2    Male  less than 18                        O/L   \n",
       "3    Male         18-30                        A/L   \n",
       "4  Female         18-30                        A/L   \n",
       "\n",
       "  Does family have a history of substance abuse, especially from a close relative like a grandparent, parent, or sibling?  \\\n",
       "0                                                Yes                                                                        \n",
       "1                                                Yes                                                                        \n",
       "2                                                Yes                                                                        \n",
       "3                                                 No                                                                        \n",
       "4                                                Yes                                                                        \n",
       "\n",
       "  Do you live with someone who has a habit of using drugs?  \\\n",
       "0                                                Yes         \n",
       "1                                                 No         \n",
       "2                                                 No         \n",
       "3                                                 No         \n",
       "4                                                Yes         \n",
       "\n",
       "  Do you have friends that use drugs?  \\\n",
       "0                                  No   \n",
       "1                                 Yes   \n",
       "2                                 Yes   \n",
       "3                                 Yes   \n",
       "4                                  No   \n",
       "\n",
       "  Did you grow up or are currently in an area of poverty or low socioeconomic status?  \\\n",
       "0                                                Yes                                    \n",
       "1                                                Yes                                    \n",
       "2                                                 No                                    \n",
       "3                                                 No                                    \n",
       "4                                                Yes                                    \n",
       "\n",
       "  Growing up, were parents rarely around, and did they not provide much supervision, discipline, or guidance?  \\\n",
       "0                                                 No                                                            \n",
       "1                                                 No                                                            \n",
       "2                                                 No                                                            \n",
       "3                                                 No                                                            \n",
       "4                                                 No                                                            \n",
       "\n",
       "  Growing up (or currently), did you have drugs around you that you could easily access?  \\\n",
       "0                                                 No                                       \n",
       "1                                                 No                                       \n",
       "2                                                 No                                       \n",
       "3                                                 No                                       \n",
       "4                                                 No                                       \n",
       "\n",
       "  Do you have a history of, or do you currently struggle with, a mental illness, such as personality disorder, Anxiety, depression, or schizophrenia?  \\\n",
       "0                                                 No                                                                                                    \n",
       "1                                                Yes                                                                                                    \n",
       "2                                                Yes                                                                                                    \n",
       "3                                                Yes                                                                                                    \n",
       "4                                                Yes                                                                                                    \n",
       "\n",
       "  Are you currently experiencing a significant transition in life, such as divorce, loss of a loved one, loss of a job, or changing schools?  \\\n",
       "0                                                Yes                                                                                           \n",
       "1                                                Yes                                                                                           \n",
       "2                                                 No                                                                                           \n",
       "3                                                Yes                                                                                           \n",
       "4                                                Yes                                                                                           \n",
       "\n",
       "  Do you have a history of childhood trauma, such as physical, mental, or sexual abuse?  \\\n",
       "0                                                 No                                      \n",
       "1                                                 No                                      \n",
       "2                                                 No                                      \n",
       "3                                                Yes                                      \n",
       "4                                                 No                                      \n",
       "\n",
       "  Did you start using drugs or drinking alcohol (even if it was only every once in a while) before you were a teenager?  \\\n",
       "0                                                 No                                                                      \n",
       "1                                                 No                                                                      \n",
       "2                                                Yes                                                                      \n",
       "3                                                Yes                                                                      \n",
       "4                                                 No                                                                      \n",
       "\n",
       "   Score (0/10)  \n",
       "0             3  \n",
       "1             5  \n",
       "2             4  \n",
       "3             5  \n",
       "4             5  "
      ]
     },
     "execution_count": 13,
     "metadata": {},
     "output_type": "execute_result"
    }
   ],
   "source": [
    "data.head()"
   ]
  },
  {
   "cell_type": "markdown",
   "id": "21610266",
   "metadata": {},
   "source": [
    "## Columns Value Counts"
   ]
  },
  {
   "cell_type": "code",
   "execution_count": 14,
   "id": "0b1d25e7",
   "metadata": {},
   "outputs": [
    {
     "data": {
      "text/plain": [
       "Male      142\n",
       "Female     29\n",
       "Name: Gender, dtype: int64"
      ]
     },
     "execution_count": 14,
     "metadata": {},
     "output_type": "execute_result"
    }
   ],
   "source": [
    "data['Gender'].value_counts()"
   ]
  },
  {
   "cell_type": "code",
   "execution_count": 15,
   "id": "de5e4fb6",
   "metadata": {},
   "outputs": [
    {
     "data": {
      "text/plain": [
       "18-30           127\n",
       "more than 30     24\n",
       "less than 18     20\n",
       "Name: Age, dtype: int64"
      ]
     },
     "execution_count": 15,
     "metadata": {},
     "output_type": "execute_result"
    }
   ],
   "source": [
    "data['Age'].value_counts()"
   ]
  },
  {
   "cell_type": "code",
   "execution_count": 16,
   "id": "20be9df3",
   "metadata": {},
   "outputs": [
    {
     "data": {
      "text/plain": [
       "O/L                  49\n",
       "Undergraduate        47\n",
       "A/L                  41\n",
       "Primary education    23\n",
       "Postgraduate         11\n",
       "Name: Educational Qualifications, dtype: int64"
      ]
     },
     "execution_count": 16,
     "metadata": {},
     "output_type": "execute_result"
    }
   ],
   "source": [
    "data['Educational Qualifications'].value_counts()"
   ]
  },
  {
   "cell_type": "code",
   "execution_count": 17,
   "id": "21f201c8",
   "metadata": {},
   "outputs": [
    {
     "data": {
      "text/plain": [
       "Yes    101\n",
       "No      70\n",
       "Name: Does family have a history of substance abuse, especially from a close relative like a grandparent, parent, or sibling?, dtype: int64"
      ]
     },
     "execution_count": 17,
     "metadata": {},
     "output_type": "execute_result"
    }
   ],
   "source": [
    "data['Does family have a history of substance abuse, especially from a close relative like a grandparent, parent, or sibling?'].value_counts()"
   ]
  },
  {
   "cell_type": "code",
   "execution_count": 18,
   "id": "979f13ff",
   "metadata": {},
   "outputs": [
    {
     "data": {
      "text/plain": [
       "No     98\n",
       "Yes    73\n",
       "Name: Do you live with someone who has a habit of using drugs?, dtype: int64"
      ]
     },
     "execution_count": 18,
     "metadata": {},
     "output_type": "execute_result"
    }
   ],
   "source": [
    "data['Do you live with someone who has a habit of using drugs?'].value_counts()"
   ]
  },
  {
   "cell_type": "code",
   "execution_count": 19,
   "id": "35e91571",
   "metadata": {},
   "outputs": [
    {
     "data": {
      "text/plain": [
       "Yes    127\n",
       "No      44\n",
       "Name: Do you have friends that use drugs?, dtype: int64"
      ]
     },
     "execution_count": 19,
     "metadata": {},
     "output_type": "execute_result"
    }
   ],
   "source": [
    "data['Do you have friends that use drugs?'].value_counts()"
   ]
  },
  {
   "cell_type": "code",
   "execution_count": 20,
   "id": "ae35bac9",
   "metadata": {},
   "outputs": [
    {
     "data": {
      "text/plain": [
       "Yes    96\n",
       "No     75\n",
       "Name: Did you grow up or are currently in an area of poverty or low socioeconomic status?, dtype: int64"
      ]
     },
     "execution_count": 20,
     "metadata": {},
     "output_type": "execute_result"
    }
   ],
   "source": [
    "data['Did you grow up or are currently in an area of poverty or low socioeconomic status?'].value_counts()"
   ]
  },
  {
   "cell_type": "code",
   "execution_count": 21,
   "id": "a905aaf4",
   "metadata": {},
   "outputs": [
    {
     "data": {
      "text/plain": [
       "Yes    86\n",
       "No     85\n",
       "Name: Growing up, were parents rarely around, and did they not provide much supervision, discipline, or guidance?, dtype: int64"
      ]
     },
     "execution_count": 21,
     "metadata": {},
     "output_type": "execute_result"
    }
   ],
   "source": [
    "data['Growing up, were parents rarely around, and did they not provide much supervision, discipline, or guidance?'].value_counts()"
   ]
  },
  {
   "cell_type": "code",
   "execution_count": 22,
   "id": "7183b570",
   "metadata": {},
   "outputs": [
    {
     "data": {
      "text/plain": [
       "Yes    110\n",
       "No      61\n",
       "Name: Growing up (or currently), did you have drugs around you that you could easily access?, dtype: int64"
      ]
     },
     "execution_count": 22,
     "metadata": {},
     "output_type": "execute_result"
    }
   ],
   "source": [
    "data['Growing up (or currently), did you have drugs around you that you could easily access?'].value_counts()"
   ]
  },
  {
   "cell_type": "code",
   "execution_count": 23,
   "id": "ea66660f",
   "metadata": {},
   "outputs": [
    {
     "data": {
      "text/plain": [
       "Yes    106\n",
       "No      65\n",
       "Name: Do you have a history of, or do you currently struggle with, a mental illness, such as personality disorder, Anxiety, depression, or schizophrenia?, dtype: int64"
      ]
     },
     "execution_count": 23,
     "metadata": {},
     "output_type": "execute_result"
    }
   ],
   "source": [
    "data['Do you have a history of, or do you currently struggle with, a mental illness, such as personality disorder, Anxiety, depression, or schizophrenia?'].value_counts()"
   ]
  },
  {
   "cell_type": "code",
   "execution_count": 24,
   "id": "1d705726",
   "metadata": {},
   "outputs": [
    {
     "data": {
      "text/plain": [
       "Yes    125\n",
       "No      46\n",
       "Name: Are you currently experiencing a significant transition in life, such as divorce, loss of a loved one, loss of a job, or changing schools?, dtype: int64"
      ]
     },
     "execution_count": 24,
     "metadata": {},
     "output_type": "execute_result"
    }
   ],
   "source": [
    "data['Are you currently experiencing a significant transition in life, such as divorce, loss of a loved one, loss of a job, or changing schools?'].value_counts()"
   ]
  },
  {
   "cell_type": "code",
   "execution_count": 25,
   "id": "a2aa095a",
   "metadata": {},
   "outputs": [
    {
     "data": {
      "text/plain": [
       "No     116\n",
       "Yes     55\n",
       "Name: Do you have a history of childhood trauma, such as physical, mental, or sexual abuse?, dtype: int64"
      ]
     },
     "execution_count": 25,
     "metadata": {},
     "output_type": "execute_result"
    }
   ],
   "source": [
    "data['Do you have a history of childhood trauma, such as physical, mental, or sexual abuse?'].value_counts()"
   ]
  },
  {
   "cell_type": "code",
   "execution_count": 26,
   "id": "9d036ffb",
   "metadata": {},
   "outputs": [
    {
     "data": {
      "text/plain": [
       "No     116\n",
       "Yes     55\n",
       "Name: Do you have a history of childhood trauma, such as physical, mental, or sexual abuse?, dtype: int64"
      ]
     },
     "execution_count": 26,
     "metadata": {},
     "output_type": "execute_result"
    }
   ],
   "source": [
    "data['Do you have a history of childhood trauma, such as physical, mental, or sexual abuse?'].value_counts()"
   ]
  },
  {
   "cell_type": "code",
   "execution_count": 27,
   "id": "c21b481e",
   "metadata": {},
   "outputs": [
    {
     "data": {
      "text/plain": [
       "Yes    105\n",
       "No      66\n",
       "Name: Did you start using drugs or drinking alcohol (even if it was only every once in a while) before you were a teenager?, dtype: int64"
      ]
     },
     "execution_count": 27,
     "metadata": {},
     "output_type": "execute_result"
    }
   ],
   "source": [
    "data['Did you start using drugs or drinking alcohol (even if it was only every once in a while) before you were a teenager?'].value_counts()"
   ]
  },
  {
   "cell_type": "code",
   "execution_count": 28,
   "id": "83c9a7dd",
   "metadata": {},
   "outputs": [
    {
     "data": {
      "text/html": [
       "<div>\n",
       "<style scoped>\n",
       "    .dataframe tbody tr th:only-of-type {\n",
       "        vertical-align: middle;\n",
       "    }\n",
       "\n",
       "    .dataframe tbody tr th {\n",
       "        vertical-align: top;\n",
       "    }\n",
       "\n",
       "    .dataframe thead th {\n",
       "        text-align: right;\n",
       "    }\n",
       "</style>\n",
       "<table border=\"1\" class=\"dataframe\">\n",
       "  <thead>\n",
       "    <tr style=\"text-align: right;\">\n",
       "      <th></th>\n",
       "      <th>Gender</th>\n",
       "      <th>Age</th>\n",
       "      <th>Educational Qualifications</th>\n",
       "      <th>Does family have a history of substance abuse, especially from a close relative like a grandparent, parent, or sibling?</th>\n",
       "      <th>Do you live with someone who has a habit of using drugs?</th>\n",
       "      <th>Do you have friends that use drugs?</th>\n",
       "      <th>Did you grow up or are currently in an area of poverty or low socioeconomic status?</th>\n",
       "      <th>Growing up, were parents rarely around, and did they not provide much supervision, discipline, or guidance?</th>\n",
       "      <th>Growing up (or currently), did you have drugs around you that you could easily access?</th>\n",
       "      <th>Do you have a history of, or do you currently struggle with, a mental illness, such as personality disorder, Anxiety, depression, or schizophrenia?</th>\n",
       "      <th>Are you currently experiencing a significant transition in life, such as divorce, loss of a loved one, loss of a job, or changing schools?</th>\n",
       "      <th>Do you have a history of childhood trauma, such as physical, mental, or sexual abuse?</th>\n",
       "      <th>Did you start using drugs or drinking alcohol (even if it was only every once in a while) before you were a teenager?</th>\n",
       "      <th>Score (0/10)</th>\n",
       "    </tr>\n",
       "  </thead>\n",
       "  <tbody>\n",
       "    <tr>\n",
       "      <th>0</th>\n",
       "      <td>Male</td>\n",
       "      <td>18-30</td>\n",
       "      <td>A/L</td>\n",
       "      <td>Yes</td>\n",
       "      <td>Yes</td>\n",
       "      <td>No</td>\n",
       "      <td>Yes</td>\n",
       "      <td>No</td>\n",
       "      <td>No</td>\n",
       "      <td>No</td>\n",
       "      <td>Yes</td>\n",
       "      <td>No</td>\n",
       "      <td>No</td>\n",
       "      <td>3</td>\n",
       "    </tr>\n",
       "    <tr>\n",
       "      <th>1</th>\n",
       "      <td>Male</td>\n",
       "      <td>18-30</td>\n",
       "      <td>A/L</td>\n",
       "      <td>Yes</td>\n",
       "      <td>No</td>\n",
       "      <td>Yes</td>\n",
       "      <td>Yes</td>\n",
       "      <td>No</td>\n",
       "      <td>No</td>\n",
       "      <td>Yes</td>\n",
       "      <td>Yes</td>\n",
       "      <td>No</td>\n",
       "      <td>No</td>\n",
       "      <td>5</td>\n",
       "    </tr>\n",
       "    <tr>\n",
       "      <th>2</th>\n",
       "      <td>Male</td>\n",
       "      <td>less than 18</td>\n",
       "      <td>O/L</td>\n",
       "      <td>Yes</td>\n",
       "      <td>No</td>\n",
       "      <td>Yes</td>\n",
       "      <td>No</td>\n",
       "      <td>No</td>\n",
       "      <td>No</td>\n",
       "      <td>Yes</td>\n",
       "      <td>No</td>\n",
       "      <td>No</td>\n",
       "      <td>Yes</td>\n",
       "      <td>4</td>\n",
       "    </tr>\n",
       "    <tr>\n",
       "      <th>3</th>\n",
       "      <td>Male</td>\n",
       "      <td>18-30</td>\n",
       "      <td>A/L</td>\n",
       "      <td>No</td>\n",
       "      <td>No</td>\n",
       "      <td>Yes</td>\n",
       "      <td>No</td>\n",
       "      <td>No</td>\n",
       "      <td>No</td>\n",
       "      <td>Yes</td>\n",
       "      <td>Yes</td>\n",
       "      <td>Yes</td>\n",
       "      <td>Yes</td>\n",
       "      <td>5</td>\n",
       "    </tr>\n",
       "    <tr>\n",
       "      <th>4</th>\n",
       "      <td>Female</td>\n",
       "      <td>18-30</td>\n",
       "      <td>A/L</td>\n",
       "      <td>Yes</td>\n",
       "      <td>Yes</td>\n",
       "      <td>No</td>\n",
       "      <td>Yes</td>\n",
       "      <td>No</td>\n",
       "      <td>No</td>\n",
       "      <td>Yes</td>\n",
       "      <td>Yes</td>\n",
       "      <td>No</td>\n",
       "      <td>No</td>\n",
       "      <td>5</td>\n",
       "    </tr>\n",
       "  </tbody>\n",
       "</table>\n",
       "</div>"
      ],
      "text/plain": [
       "   Gender           Age Educational Qualifications  \\\n",
       "0    Male         18-30                        A/L   \n",
       "1    Male         18-30                        A/L   \n",
       "2    Male  less than 18                        O/L   \n",
       "3    Male         18-30                        A/L   \n",
       "4  Female         18-30                        A/L   \n",
       "\n",
       "  Does family have a history of substance abuse, especially from a close relative like a grandparent, parent, or sibling?  \\\n",
       "0                                                Yes                                                                        \n",
       "1                                                Yes                                                                        \n",
       "2                                                Yes                                                                        \n",
       "3                                                 No                                                                        \n",
       "4                                                Yes                                                                        \n",
       "\n",
       "  Do you live with someone who has a habit of using drugs?  \\\n",
       "0                                                Yes         \n",
       "1                                                 No         \n",
       "2                                                 No         \n",
       "3                                                 No         \n",
       "4                                                Yes         \n",
       "\n",
       "  Do you have friends that use drugs?  \\\n",
       "0                                  No   \n",
       "1                                 Yes   \n",
       "2                                 Yes   \n",
       "3                                 Yes   \n",
       "4                                  No   \n",
       "\n",
       "  Did you grow up or are currently in an area of poverty or low socioeconomic status?  \\\n",
       "0                                                Yes                                    \n",
       "1                                                Yes                                    \n",
       "2                                                 No                                    \n",
       "3                                                 No                                    \n",
       "4                                                Yes                                    \n",
       "\n",
       "  Growing up, were parents rarely around, and did they not provide much supervision, discipline, or guidance?  \\\n",
       "0                                                 No                                                            \n",
       "1                                                 No                                                            \n",
       "2                                                 No                                                            \n",
       "3                                                 No                                                            \n",
       "4                                                 No                                                            \n",
       "\n",
       "  Growing up (or currently), did you have drugs around you that you could easily access?  \\\n",
       "0                                                 No                                       \n",
       "1                                                 No                                       \n",
       "2                                                 No                                       \n",
       "3                                                 No                                       \n",
       "4                                                 No                                       \n",
       "\n",
       "  Do you have a history of, or do you currently struggle with, a mental illness, such as personality disorder, Anxiety, depression, or schizophrenia?  \\\n",
       "0                                                 No                                                                                                    \n",
       "1                                                Yes                                                                                                    \n",
       "2                                                Yes                                                                                                    \n",
       "3                                                Yes                                                                                                    \n",
       "4                                                Yes                                                                                                    \n",
       "\n",
       "  Are you currently experiencing a significant transition in life, such as divorce, loss of a loved one, loss of a job, or changing schools?  \\\n",
       "0                                                Yes                                                                                           \n",
       "1                                                Yes                                                                                           \n",
       "2                                                 No                                                                                           \n",
       "3                                                Yes                                                                                           \n",
       "4                                                Yes                                                                                           \n",
       "\n",
       "  Do you have a history of childhood trauma, such as physical, mental, or sexual abuse?  \\\n",
       "0                                                 No                                      \n",
       "1                                                 No                                      \n",
       "2                                                 No                                      \n",
       "3                                                Yes                                      \n",
       "4                                                 No                                      \n",
       "\n",
       "  Did you start using drugs or drinking alcohol (even if it was only every once in a while) before you were a teenager?  \\\n",
       "0                                                 No                                                                      \n",
       "1                                                 No                                                                      \n",
       "2                                                Yes                                                                      \n",
       "3                                                Yes                                                                      \n",
       "4                                                 No                                                                      \n",
       "\n",
       "   Score (0/10)  \n",
       "0             3  \n",
       "1             5  \n",
       "2             4  \n",
       "3             5  \n",
       "4             5  "
      ]
     },
     "execution_count": 28,
     "metadata": {},
     "output_type": "execute_result"
    }
   ],
   "source": [
    "data.head()"
   ]
  },
  {
   "cell_type": "code",
   "execution_count": 29,
   "id": "180e1a69",
   "metadata": {},
   "outputs": [
    {
     "data": {
      "text/plain": [
       "(171, 14)"
      ]
     },
     "execution_count": 29,
     "metadata": {},
     "output_type": "execute_result"
    }
   ],
   "source": [
    "data.shape"
   ]
  },
  {
   "cell_type": "markdown",
   "id": "03b4658f",
   "metadata": {},
   "source": [
    "## One-Hot Encoding"
   ]
  },
  {
   "cell_type": "code",
   "execution_count": 30,
   "id": "cf89b3e5",
   "metadata": {},
   "outputs": [],
   "source": [
    "data = pd.get_dummies(data)"
   ]
  },
  {
   "cell_type": "code",
   "execution_count": 31,
   "id": "e1aa2894",
   "metadata": {},
   "outputs": [
    {
     "data": {
      "text/html": [
       "<div>\n",
       "<style scoped>\n",
       "    .dataframe tbody tr th:only-of-type {\n",
       "        vertical-align: middle;\n",
       "    }\n",
       "\n",
       "    .dataframe tbody tr th {\n",
       "        vertical-align: top;\n",
       "    }\n",
       "\n",
       "    .dataframe thead th {\n",
       "        text-align: right;\n",
       "    }\n",
       "</style>\n",
       "<table border=\"1\" class=\"dataframe\">\n",
       "  <thead>\n",
       "    <tr style=\"text-align: right;\">\n",
       "      <th></th>\n",
       "      <th>Score (0/10)</th>\n",
       "      <th>Gender_Female</th>\n",
       "      <th>Gender_Male</th>\n",
       "      <th>Age_18-30</th>\n",
       "      <th>Age_less than 18</th>\n",
       "      <th>Age_more than 30</th>\n",
       "      <th>Educational Qualifications_A/L</th>\n",
       "      <th>Educational Qualifications_O/L</th>\n",
       "      <th>Educational Qualifications_Postgraduate</th>\n",
       "      <th>Educational Qualifications_Primary education</th>\n",
       "      <th>...</th>\n",
       "      <th>Growing up (or currently), did you have drugs around you that you could easily access?_No</th>\n",
       "      <th>Growing up (or currently), did you have drugs around you that you could easily access?_Yes</th>\n",
       "      <th>Do you have a history of, or do you currently struggle with, a mental illness, such as personality disorder, Anxiety, depression, or schizophrenia?_No</th>\n",
       "      <th>Do you have a history of, or do you currently struggle with, a mental illness, such as personality disorder, Anxiety, depression, or schizophrenia?_Yes</th>\n",
       "      <th>Are you currently experiencing a significant transition in life, such as divorce, loss of a loved one, loss of a job, or changing schools?_No</th>\n",
       "      <th>Are you currently experiencing a significant transition in life, such as divorce, loss of a loved one, loss of a job, or changing schools?_Yes</th>\n",
       "      <th>Do you have a history of childhood trauma, such as physical, mental, or sexual abuse?_No</th>\n",
       "      <th>Do you have a history of childhood trauma, such as physical, mental, or sexual abuse?_Yes</th>\n",
       "      <th>Did you start using drugs or drinking alcohol (even if it was only every once in a while) before you were a teenager?_No</th>\n",
       "      <th>Did you start using drugs or drinking alcohol (even if it was only every once in a while) before you were a teenager?_Yes</th>\n",
       "    </tr>\n",
       "  </thead>\n",
       "  <tbody>\n",
       "    <tr>\n",
       "      <th>0</th>\n",
       "      <td>3</td>\n",
       "      <td>0</td>\n",
       "      <td>1</td>\n",
       "      <td>1</td>\n",
       "      <td>0</td>\n",
       "      <td>0</td>\n",
       "      <td>1</td>\n",
       "      <td>0</td>\n",
       "      <td>0</td>\n",
       "      <td>0</td>\n",
       "      <td>...</td>\n",
       "      <td>1</td>\n",
       "      <td>0</td>\n",
       "      <td>1</td>\n",
       "      <td>0</td>\n",
       "      <td>0</td>\n",
       "      <td>1</td>\n",
       "      <td>1</td>\n",
       "      <td>0</td>\n",
       "      <td>1</td>\n",
       "      <td>0</td>\n",
       "    </tr>\n",
       "    <tr>\n",
       "      <th>1</th>\n",
       "      <td>5</td>\n",
       "      <td>0</td>\n",
       "      <td>1</td>\n",
       "      <td>1</td>\n",
       "      <td>0</td>\n",
       "      <td>0</td>\n",
       "      <td>1</td>\n",
       "      <td>0</td>\n",
       "      <td>0</td>\n",
       "      <td>0</td>\n",
       "      <td>...</td>\n",
       "      <td>1</td>\n",
       "      <td>0</td>\n",
       "      <td>0</td>\n",
       "      <td>1</td>\n",
       "      <td>0</td>\n",
       "      <td>1</td>\n",
       "      <td>1</td>\n",
       "      <td>0</td>\n",
       "      <td>1</td>\n",
       "      <td>0</td>\n",
       "    </tr>\n",
       "    <tr>\n",
       "      <th>2</th>\n",
       "      <td>4</td>\n",
       "      <td>0</td>\n",
       "      <td>1</td>\n",
       "      <td>0</td>\n",
       "      <td>1</td>\n",
       "      <td>0</td>\n",
       "      <td>0</td>\n",
       "      <td>1</td>\n",
       "      <td>0</td>\n",
       "      <td>0</td>\n",
       "      <td>...</td>\n",
       "      <td>1</td>\n",
       "      <td>0</td>\n",
       "      <td>0</td>\n",
       "      <td>1</td>\n",
       "      <td>1</td>\n",
       "      <td>0</td>\n",
       "      <td>1</td>\n",
       "      <td>0</td>\n",
       "      <td>0</td>\n",
       "      <td>1</td>\n",
       "    </tr>\n",
       "    <tr>\n",
       "      <th>3</th>\n",
       "      <td>5</td>\n",
       "      <td>0</td>\n",
       "      <td>1</td>\n",
       "      <td>1</td>\n",
       "      <td>0</td>\n",
       "      <td>0</td>\n",
       "      <td>1</td>\n",
       "      <td>0</td>\n",
       "      <td>0</td>\n",
       "      <td>0</td>\n",
       "      <td>...</td>\n",
       "      <td>1</td>\n",
       "      <td>0</td>\n",
       "      <td>0</td>\n",
       "      <td>1</td>\n",
       "      <td>0</td>\n",
       "      <td>1</td>\n",
       "      <td>0</td>\n",
       "      <td>1</td>\n",
       "      <td>0</td>\n",
       "      <td>1</td>\n",
       "    </tr>\n",
       "    <tr>\n",
       "      <th>4</th>\n",
       "      <td>5</td>\n",
       "      <td>1</td>\n",
       "      <td>0</td>\n",
       "      <td>1</td>\n",
       "      <td>0</td>\n",
       "      <td>0</td>\n",
       "      <td>1</td>\n",
       "      <td>0</td>\n",
       "      <td>0</td>\n",
       "      <td>0</td>\n",
       "      <td>...</td>\n",
       "      <td>1</td>\n",
       "      <td>0</td>\n",
       "      <td>0</td>\n",
       "      <td>1</td>\n",
       "      <td>0</td>\n",
       "      <td>1</td>\n",
       "      <td>1</td>\n",
       "      <td>0</td>\n",
       "      <td>1</td>\n",
       "      <td>0</td>\n",
       "    </tr>\n",
       "  </tbody>\n",
       "</table>\n",
       "<p>5 rows × 31 columns</p>\n",
       "</div>"
      ],
      "text/plain": [
       "   Score (0/10)  Gender_Female  Gender_Male  Age_18-30  Age_less than 18  \\\n",
       "0             3              0            1          1                 0   \n",
       "1             5              0            1          1                 0   \n",
       "2             4              0            1          0                 1   \n",
       "3             5              0            1          1                 0   \n",
       "4             5              1            0          1                 0   \n",
       "\n",
       "   Age_more than 30  Educational Qualifications_A/L  \\\n",
       "0                 0                               1   \n",
       "1                 0                               1   \n",
       "2                 0                               0   \n",
       "3                 0                               1   \n",
       "4                 0                               1   \n",
       "\n",
       "   Educational Qualifications_O/L  Educational Qualifications_Postgraduate  \\\n",
       "0                               0                                        0   \n",
       "1                               0                                        0   \n",
       "2                               1                                        0   \n",
       "3                               0                                        0   \n",
       "4                               0                                        0   \n",
       "\n",
       "   Educational Qualifications_Primary education  ...  \\\n",
       "0                                             0  ...   \n",
       "1                                             0  ...   \n",
       "2                                             0  ...   \n",
       "3                                             0  ...   \n",
       "4                                             0  ...   \n",
       "\n",
       "   Growing up (or currently), did you have drugs around you that you could easily access?_No  \\\n",
       "0                                                  1                                           \n",
       "1                                                  1                                           \n",
       "2                                                  1                                           \n",
       "3                                                  1                                           \n",
       "4                                                  1                                           \n",
       "\n",
       "   Growing up (or currently), did you have drugs around you that you could easily access?_Yes  \\\n",
       "0                                                  0                                            \n",
       "1                                                  0                                            \n",
       "2                                                  0                                            \n",
       "3                                                  0                                            \n",
       "4                                                  0                                            \n",
       "\n",
       "   Do you have a history of, or do you currently struggle with, a mental illness, such as personality disorder, Anxiety, depression, or schizophrenia?_No  \\\n",
       "0                                                  1                                                                                                        \n",
       "1                                                  0                                                                                                        \n",
       "2                                                  0                                                                                                        \n",
       "3                                                  0                                                                                                        \n",
       "4                                                  0                                                                                                        \n",
       "\n",
       "   Do you have a history of, or do you currently struggle with, a mental illness, such as personality disorder, Anxiety, depression, or schizophrenia?_Yes  \\\n",
       "0                                                  0                                                                                                         \n",
       "1                                                  1                                                                                                         \n",
       "2                                                  1                                                                                                         \n",
       "3                                                  1                                                                                                         \n",
       "4                                                  1                                                                                                         \n",
       "\n",
       "   Are you currently experiencing a significant transition in life, such as divorce, loss of a loved one, loss of a job, or changing schools?_No  \\\n",
       "0                                                  0                                                                                               \n",
       "1                                                  0                                                                                               \n",
       "2                                                  1                                                                                               \n",
       "3                                                  0                                                                                               \n",
       "4                                                  0                                                                                               \n",
       "\n",
       "   Are you currently experiencing a significant transition in life, such as divorce, loss of a loved one, loss of a job, or changing schools?_Yes  \\\n",
       "0                                                  1                                                                                                \n",
       "1                                                  1                                                                                                \n",
       "2                                                  0                                                                                                \n",
       "3                                                  1                                                                                                \n",
       "4                                                  1                                                                                                \n",
       "\n",
       "   Do you have a history of childhood trauma, such as physical, mental, or sexual abuse?_No  \\\n",
       "0                                                  1                                          \n",
       "1                                                  1                                          \n",
       "2                                                  1                                          \n",
       "3                                                  0                                          \n",
       "4                                                  1                                          \n",
       "\n",
       "   Do you have a history of childhood trauma, such as physical, mental, or sexual abuse?_Yes  \\\n",
       "0                                                  0                                           \n",
       "1                                                  0                                           \n",
       "2                                                  0                                           \n",
       "3                                                  1                                           \n",
       "4                                                  0                                           \n",
       "\n",
       "   Did you start using drugs or drinking alcohol (even if it was only every once in a while) before you were a teenager?_No  \\\n",
       "0                                                  1                                                                          \n",
       "1                                                  1                                                                          \n",
       "2                                                  0                                                                          \n",
       "3                                                  0                                                                          \n",
       "4                                                  1                                                                          \n",
       "\n",
       "   Did you start using drugs or drinking alcohol (even if it was only every once in a while) before you were a teenager?_Yes  \n",
       "0                                                  0                                                                          \n",
       "1                                                  0                                                                          \n",
       "2                                                  1                                                                          \n",
       "3                                                  1                                                                          \n",
       "4                                                  0                                                                          \n",
       "\n",
       "[5 rows x 31 columns]"
      ]
     },
     "execution_count": 31,
     "metadata": {},
     "output_type": "execute_result"
    }
   ],
   "source": [
    "data.head()"
   ]
  },
  {
   "cell_type": "code",
   "execution_count": 32,
   "id": "c39885ba",
   "metadata": {},
   "outputs": [
    {
     "data": {
      "text/plain": [
       "(171, 31)"
      ]
     },
     "execution_count": 32,
     "metadata": {},
     "output_type": "execute_result"
    }
   ],
   "source": [
    "data.shape"
   ]
  },
  {
   "cell_type": "markdown",
   "id": "014f05d2",
   "metadata": {},
   "source": [
    "# Model Building and Selection"
   ]
  },
  {
   "cell_type": "code",
   "execution_count": 33,
   "id": "07b84ee5",
   "metadata": {},
   "outputs": [],
   "source": [
    "X = data.drop('Score (0/10)', axis=1)\n",
    "y = data['Score (0/10)']"
   ]
  },
  {
   "cell_type": "code",
   "execution_count": 34,
   "id": "1cc36e58",
   "metadata": {
    "scrolled": true
   },
   "outputs": [
    {
     "name": "stdout",
     "output_type": "stream",
     "text": [
      "Requirement already satisfied: sklearn in c:\\users\\infonet computers\\appdata\\local\\programs\\python\\python39\\lib\\site-packages (0.0)\n",
      "Requirement already satisfied: scikit-learn in c:\\users\\infonet computers\\appdata\\local\\programs\\python\\python39\\lib\\site-packages (from sklearn) (1.1.2)\n",
      "Requirement already satisfied: joblib>=1.0.0 in c:\\users\\infonet computers\\appdata\\local\\programs\\python\\python39\\lib\\site-packages (from scikit-learn->sklearn) (1.2.0)\n",
      "Requirement already satisfied: scipy>=1.3.2 in c:\\users\\infonet computers\\appdata\\local\\programs\\python\\python39\\lib\\site-packages (from scikit-learn->sklearn) (1.9.2)\n",
      "Requirement already satisfied: threadpoolctl>=2.0.0 in c:\\users\\infonet computers\\appdata\\local\\programs\\python\\python39\\lib\\site-packages (from scikit-learn->sklearn) (3.1.0)\n",
      "Requirement already satisfied: numpy>=1.17.3 in c:\\users\\infonet computers\\appdata\\local\\programs\\python\\python39\\lib\\site-packages (from scikit-learn->sklearn) (1.23.4)\n"
     ]
    },
    {
     "name": "stderr",
     "output_type": "stream",
     "text": [
      "WARNING: You are using pip version 20.2.3; however, version 22.2.2 is available.\n",
      "You should consider upgrading via the 'c:\\users\\infonet computers\\appdata\\local\\programs\\python\\python39\\python.exe -m pip install --upgrade pip' command.\n"
     ]
    }
   ],
   "source": [
    "!pip install sklearn"
   ]
  },
  {
   "cell_type": "markdown",
   "id": "531004a7",
   "metadata": {},
   "source": [
    "## Divide dataset into training and testing set"
   ]
  },
  {
   "cell_type": "code",
   "execution_count": 35,
   "id": "f1734eba",
   "metadata": {},
   "outputs": [],
   "source": [
    "from sklearn.model_selection import train_test_split\n",
    "X_train, X_test, y_train, y_test = train_test_split(X, y, test_size = 0.25)"
   ]
  },
  {
   "cell_type": "code",
   "execution_count": 36,
   "id": "4cfe44f2",
   "metadata": {},
   "outputs": [
    {
     "data": {
      "text/plain": [
       "((128, 30), (43, 30))"
      ]
     },
     "execution_count": 36,
     "metadata": {},
     "output_type": "execute_result"
    }
   ],
   "source": [
    "X_train.shape, X_test.shape"
   ]
  },
  {
   "cell_type": "markdown",
   "id": "cc7f6fff",
   "metadata": {},
   "source": [
    "## model training"
   ]
  },
  {
   "cell_type": "code",
   "execution_count": 37,
   "id": "812569cb",
   "metadata": {},
   "outputs": [],
   "source": [
    "def model_acc(model):\n",
    "    model.fit(X_train, y_train)\n",
    "    acc = model.score(X_test, y_test)\n",
    "    print(str(model)+ ' --> ' +str(acc))"
   ]
  },
  {
   "cell_type": "code",
   "execution_count": 38,
   "id": "50da766e",
   "metadata": {},
   "outputs": [
    {
     "name": "stdout",
     "output_type": "stream",
     "text": [
      "LinearRegression() --> 0.9996353289551704\n",
      "Lasso() --> -0.043068221084840985\n",
      "DecisionTreeRegressor() --> 0.7885540908139778\n",
      "RandomForestRegressor() --> 0.8887727034944548\n"
     ]
    }
   ],
   "source": [
    "from sklearn.linear_model import LinearRegression\n",
    "lr = LinearRegression()\n",
    "model_acc(lr)\n",
    "\n",
    "from sklearn.linear_model import Lasso\n",
    "lasso = Lasso()\n",
    "model_acc(lasso)\n",
    "\n",
    "from sklearn.tree import DecisionTreeRegressor\n",
    "dt = DecisionTreeRegressor()\n",
    "model_acc(dt)\n",
    "\n",
    "from sklearn.ensemble import RandomForestRegressor\n",
    "rf = RandomForestRegressor()\n",
    "model_acc(rf)"
   ]
  },
  {
   "cell_type": "code",
   "execution_count": 41,
   "id": "23fa550c",
   "metadata": {},
   "outputs": [
    {
     "name": "stdout",
     "output_type": "stream",
     "text": [
      "Requirement already satisfied: matplotlib in c:\\users\\infonet computers\\appdata\\local\\programs\\python\\python39\\lib\\site-packages (3.6.1)"
     ]
    },
    {
     "name": "stderr",
     "output_type": "stream",
     "text": [
      "WARNING: You are using pip version 20.2.3; however, version 22.2.2 is available."
     ]
    },
    {
     "name": "stdout",
     "output_type": "stream",
     "text": [
      "\n",
      "Requirement already satisfied: contourpy>=1.0.1 in c:\\users\\infonet computers\\appdata\\local\\programs\\python\\python39\\lib\\site-packages (from matplotlib) (1.0.5)\n",
      "Requirement already satisfied: numpy>=1.19 in c:\\users\\infonet computers\\appdata\\local\\programs\\python\\python39\\lib\\site-packages (from matplotlib) (1.23.4)\n",
      "Requirement already satisfied: python-dateutil>=2.7 in c:\\users\\infonet computers\\appdata\\local\\programs\\python\\python39\\lib\\site-packages (from matplotlib) (2.8.2)\n",
      "Requirement already satisfied: packaging>=20.0 in c:\\users\\infonet computers\\appdata\\local\\programs\\python\\python39\\lib\\site-packages (from matplotlib) (21.3)\n",
      "Requirement already satisfied: fonttools>=4.22.0 in c:\\users\\infonet computers\\appdata\\local\\programs\\python\\python39\\lib\\site-packages (from matplotlib) (4.37.4)\n",
      "Requirement already satisfied: cycler>=0.10 in c:\\users\\infonet computers\\appdata\\local\\programs\\python\\python39\\lib\\site-packages (from matplotlib) (0.11.0)\n",
      "Requirement already satisfied: pillow>=6.2.0 in c:\\users\\infonet computers\\appdata\\local\\programs\\python\\python39\\lib\\site-packages (from matplotlib) (9.2.0)\n",
      "Requirement already satisfied: pyparsing>=2.2.1 in c:\\users\\infonet computers\\appdata\\local\\programs\\python\\python39\\lib\\site-packages (from matplotlib) (3.0.9)\n",
      "Requirement already satisfied: kiwisolver>=1.0.1 in c:\\users\\infonet computers\\appdata\\local\\programs\\python\\python39\\lib\\site-packages (from matplotlib) (1.4.4)\n",
      "Requirement already satisfied: six>=1.5 in c:\\users\\infonet computers\\appdata\\local\\programs\\python\\python39\\lib\\site-packages (from python-dateutil>=2.7->matplotlib) (1.16.0)\n"
     ]
    },
    {
     "name": "stderr",
     "output_type": "stream",
     "text": [
      "\n",
      "You should consider upgrading via the 'c:\\users\\infonet computers\\appdata\\local\\programs\\python\\python39\\python.exe -m pip install --upgrade pip' command.\n"
     ]
    }
   ],
   "source": [
    "!pip install matplotlib"
   ]
  },
  {
   "cell_type": "code",
   "execution_count": 42,
   "id": "61216280",
   "metadata": {},
   "outputs": [],
   "source": [
    "import matplotlib.pyplot as plt\n",
    "from sklearn.linear_model import LinearRegression"
   ]
  },
  {
   "cell_type": "code",
   "execution_count": 43,
   "id": "97231db1",
   "metadata": {},
   "outputs": [
    {
     "data": {
      "text/html": [
       "<div>\n",
       "<style scoped>\n",
       "    .dataframe tbody tr th:only-of-type {\n",
       "        vertical-align: middle;\n",
       "    }\n",
       "\n",
       "    .dataframe tbody tr th {\n",
       "        vertical-align: top;\n",
       "    }\n",
       "\n",
       "    .dataframe thead th {\n",
       "        text-align: right;\n",
       "    }\n",
       "</style>\n",
       "<table border=\"1\" class=\"dataframe\">\n",
       "  <thead>\n",
       "    <tr style=\"text-align: right;\">\n",
       "      <th></th>\n",
       "      <th>Score (0/10)</th>\n",
       "      <th>Gender_Female</th>\n",
       "      <th>Gender_Male</th>\n",
       "      <th>Age_18-30</th>\n",
       "      <th>Age_less than 18</th>\n",
       "      <th>Age_more than 30</th>\n",
       "      <th>Educational Qualifications_A/L</th>\n",
       "      <th>Educational Qualifications_O/L</th>\n",
       "      <th>Educational Qualifications_Postgraduate</th>\n",
       "      <th>Educational Qualifications_Primary education</th>\n",
       "      <th>...</th>\n",
       "      <th>Growing up (or currently), did you have drugs around you that you could easily access?_No</th>\n",
       "      <th>Growing up (or currently), did you have drugs around you that you could easily access?_Yes</th>\n",
       "      <th>Do you have a history of, or do you currently struggle with, a mental illness, such as personality disorder, Anxiety, depression, or schizophrenia?_No</th>\n",
       "      <th>Do you have a history of, or do you currently struggle with, a mental illness, such as personality disorder, Anxiety, depression, or schizophrenia?_Yes</th>\n",
       "      <th>Are you currently experiencing a significant transition in life, such as divorce, loss of a loved one, loss of a job, or changing schools?_No</th>\n",
       "      <th>Are you currently experiencing a significant transition in life, such as divorce, loss of a loved one, loss of a job, or changing schools?_Yes</th>\n",
       "      <th>Do you have a history of childhood trauma, such as physical, mental, or sexual abuse?_No</th>\n",
       "      <th>Do you have a history of childhood trauma, such as physical, mental, or sexual abuse?_Yes</th>\n",
       "      <th>Did you start using drugs or drinking alcohol (even if it was only every once in a while) before you were a teenager?_No</th>\n",
       "      <th>Did you start using drugs or drinking alcohol (even if it was only every once in a while) before you were a teenager?_Yes</th>\n",
       "    </tr>\n",
       "  </thead>\n",
       "  <tbody>\n",
       "    <tr>\n",
       "      <th>0</th>\n",
       "      <td>3</td>\n",
       "      <td>0</td>\n",
       "      <td>1</td>\n",
       "      <td>1</td>\n",
       "      <td>0</td>\n",
       "      <td>0</td>\n",
       "      <td>1</td>\n",
       "      <td>0</td>\n",
       "      <td>0</td>\n",
       "      <td>0</td>\n",
       "      <td>...</td>\n",
       "      <td>1</td>\n",
       "      <td>0</td>\n",
       "      <td>1</td>\n",
       "      <td>0</td>\n",
       "      <td>0</td>\n",
       "      <td>1</td>\n",
       "      <td>1</td>\n",
       "      <td>0</td>\n",
       "      <td>1</td>\n",
       "      <td>0</td>\n",
       "    </tr>\n",
       "    <tr>\n",
       "      <th>1</th>\n",
       "      <td>5</td>\n",
       "      <td>0</td>\n",
       "      <td>1</td>\n",
       "      <td>1</td>\n",
       "      <td>0</td>\n",
       "      <td>0</td>\n",
       "      <td>1</td>\n",
       "      <td>0</td>\n",
       "      <td>0</td>\n",
       "      <td>0</td>\n",
       "      <td>...</td>\n",
       "      <td>1</td>\n",
       "      <td>0</td>\n",
       "      <td>0</td>\n",
       "      <td>1</td>\n",
       "      <td>0</td>\n",
       "      <td>1</td>\n",
       "      <td>1</td>\n",
       "      <td>0</td>\n",
       "      <td>1</td>\n",
       "      <td>0</td>\n",
       "    </tr>\n",
       "    <tr>\n",
       "      <th>2</th>\n",
       "      <td>4</td>\n",
       "      <td>0</td>\n",
       "      <td>1</td>\n",
       "      <td>0</td>\n",
       "      <td>1</td>\n",
       "      <td>0</td>\n",
       "      <td>0</td>\n",
       "      <td>1</td>\n",
       "      <td>0</td>\n",
       "      <td>0</td>\n",
       "      <td>...</td>\n",
       "      <td>1</td>\n",
       "      <td>0</td>\n",
       "      <td>0</td>\n",
       "      <td>1</td>\n",
       "      <td>1</td>\n",
       "      <td>0</td>\n",
       "      <td>1</td>\n",
       "      <td>0</td>\n",
       "      <td>0</td>\n",
       "      <td>1</td>\n",
       "    </tr>\n",
       "    <tr>\n",
       "      <th>3</th>\n",
       "      <td>5</td>\n",
       "      <td>0</td>\n",
       "      <td>1</td>\n",
       "      <td>1</td>\n",
       "      <td>0</td>\n",
       "      <td>0</td>\n",
       "      <td>1</td>\n",
       "      <td>0</td>\n",
       "      <td>0</td>\n",
       "      <td>0</td>\n",
       "      <td>...</td>\n",
       "      <td>1</td>\n",
       "      <td>0</td>\n",
       "      <td>0</td>\n",
       "      <td>1</td>\n",
       "      <td>0</td>\n",
       "      <td>1</td>\n",
       "      <td>0</td>\n",
       "      <td>1</td>\n",
       "      <td>0</td>\n",
       "      <td>1</td>\n",
       "    </tr>\n",
       "    <tr>\n",
       "      <th>4</th>\n",
       "      <td>5</td>\n",
       "      <td>1</td>\n",
       "      <td>0</td>\n",
       "      <td>1</td>\n",
       "      <td>0</td>\n",
       "      <td>0</td>\n",
       "      <td>1</td>\n",
       "      <td>0</td>\n",
       "      <td>0</td>\n",
       "      <td>0</td>\n",
       "      <td>...</td>\n",
       "      <td>1</td>\n",
       "      <td>0</td>\n",
       "      <td>0</td>\n",
       "      <td>1</td>\n",
       "      <td>0</td>\n",
       "      <td>1</td>\n",
       "      <td>1</td>\n",
       "      <td>0</td>\n",
       "      <td>1</td>\n",
       "      <td>0</td>\n",
       "    </tr>\n",
       "  </tbody>\n",
       "</table>\n",
       "<p>5 rows × 31 columns</p>\n",
       "</div>"
      ],
      "text/plain": [
       "   Score (0/10)  Gender_Female  Gender_Male  Age_18-30  Age_less than 18  \\\n",
       "0             3              0            1          1                 0   \n",
       "1             5              0            1          1                 0   \n",
       "2             4              0            1          0                 1   \n",
       "3             5              0            1          1                 0   \n",
       "4             5              1            0          1                 0   \n",
       "\n",
       "   Age_more than 30  Educational Qualifications_A/L  \\\n",
       "0                 0                               1   \n",
       "1                 0                               1   \n",
       "2                 0                               0   \n",
       "3                 0                               1   \n",
       "4                 0                               1   \n",
       "\n",
       "   Educational Qualifications_O/L  Educational Qualifications_Postgraduate  \\\n",
       "0                               0                                        0   \n",
       "1                               0                                        0   \n",
       "2                               1                                        0   \n",
       "3                               0                                        0   \n",
       "4                               0                                        0   \n",
       "\n",
       "   Educational Qualifications_Primary education  ...  \\\n",
       "0                                             0  ...   \n",
       "1                                             0  ...   \n",
       "2                                             0  ...   \n",
       "3                                             0  ...   \n",
       "4                                             0  ...   \n",
       "\n",
       "   Growing up (or currently), did you have drugs around you that you could easily access?_No  \\\n",
       "0                                                  1                                           \n",
       "1                                                  1                                           \n",
       "2                                                  1                                           \n",
       "3                                                  1                                           \n",
       "4                                                  1                                           \n",
       "\n",
       "   Growing up (or currently), did you have drugs around you that you could easily access?_Yes  \\\n",
       "0                                                  0                                            \n",
       "1                                                  0                                            \n",
       "2                                                  0                                            \n",
       "3                                                  0                                            \n",
       "4                                                  0                                            \n",
       "\n",
       "   Do you have a history of, or do you currently struggle with, a mental illness, such as personality disorder, Anxiety, depression, or schizophrenia?_No  \\\n",
       "0                                                  1                                                                                                        \n",
       "1                                                  0                                                                                                        \n",
       "2                                                  0                                                                                                        \n",
       "3                                                  0                                                                                                        \n",
       "4                                                  0                                                                                                        \n",
       "\n",
       "   Do you have a history of, or do you currently struggle with, a mental illness, such as personality disorder, Anxiety, depression, or schizophrenia?_Yes  \\\n",
       "0                                                  0                                                                                                         \n",
       "1                                                  1                                                                                                         \n",
       "2                                                  1                                                                                                         \n",
       "3                                                  1                                                                                                         \n",
       "4                                                  1                                                                                                         \n",
       "\n",
       "   Are you currently experiencing a significant transition in life, such as divorce, loss of a loved one, loss of a job, or changing schools?_No  \\\n",
       "0                                                  0                                                                                               \n",
       "1                                                  0                                                                                               \n",
       "2                                                  1                                                                                               \n",
       "3                                                  0                                                                                               \n",
       "4                                                  0                                                                                               \n",
       "\n",
       "   Are you currently experiencing a significant transition in life, such as divorce, loss of a loved one, loss of a job, or changing schools?_Yes  \\\n",
       "0                                                  1                                                                                                \n",
       "1                                                  1                                                                                                \n",
       "2                                                  0                                                                                                \n",
       "3                                                  1                                                                                                \n",
       "4                                                  1                                                                                                \n",
       "\n",
       "   Do you have a history of childhood trauma, such as physical, mental, or sexual abuse?_No  \\\n",
       "0                                                  1                                          \n",
       "1                                                  1                                          \n",
       "2                                                  1                                          \n",
       "3                                                  0                                          \n",
       "4                                                  1                                          \n",
       "\n",
       "   Do you have a history of childhood trauma, such as physical, mental, or sexual abuse?_Yes  \\\n",
       "0                                                  0                                           \n",
       "1                                                  0                                           \n",
       "2                                                  0                                           \n",
       "3                                                  1                                           \n",
       "4                                                  0                                           \n",
       "\n",
       "   Did you start using drugs or drinking alcohol (even if it was only every once in a while) before you were a teenager?_No  \\\n",
       "0                                                  1                                                                          \n",
       "1                                                  1                                                                          \n",
       "2                                                  0                                                                          \n",
       "3                                                  0                                                                          \n",
       "4                                                  1                                                                          \n",
       "\n",
       "   Did you start using drugs or drinking alcohol (even if it was only every once in a while) before you were a teenager?_Yes  \n",
       "0                                                  0                                                                          \n",
       "1                                                  0                                                                          \n",
       "2                                                  1                                                                          \n",
       "3                                                  1                                                                          \n",
       "4                                                  0                                                                          \n",
       "\n",
       "[5 rows x 31 columns]"
      ]
     },
     "execution_count": 43,
     "metadata": {},
     "output_type": "execute_result"
    }
   ],
   "source": [
    "data.head()"
   ]
  },
  {
   "cell_type": "code",
   "execution_count": 44,
   "id": "81bec14b",
   "metadata": {},
   "outputs": [
    {
     "name": "stdout",
     "output_type": "stream",
     "text": [
      "<class 'pandas.core.frame.DataFrame'>\n",
      "RangeIndex: 171 entries, 0 to 170\n",
      "Data columns (total 31 columns):\n",
      " #   Column                                                                                                                                                   Non-Null Count  Dtype\n",
      "---  ------                                                                                                                                                   --------------  -----\n",
      " 0   Score (0/10)                                                                                                                                             171 non-null    int32\n",
      " 1   Gender_Female                                                                                                                                            171 non-null    uint8\n",
      " 2   Gender_Male                                                                                                                                              171 non-null    uint8\n",
      " 3   Age_18-30                                                                                                                                                171 non-null    uint8\n",
      " 4   Age_less than 18                                                                                                                                         171 non-null    uint8\n",
      " 5   Age_more than 30                                                                                                                                         171 non-null    uint8\n",
      " 6   Educational Qualifications_A/L                                                                                                                           171 non-null    uint8\n",
      " 7   Educational Qualifications_O/L                                                                                                                           171 non-null    uint8\n",
      " 8   Educational Qualifications_Postgraduate                                                                                                                  171 non-null    uint8\n",
      " 9   Educational Qualifications_Primary education                                                                                                             171 non-null    uint8\n",
      " 10  Educational Qualifications_Undergraduate                                                                                                                 171 non-null    uint8\n",
      " 11  Does family have a history of substance abuse, especially from a close relative like a grandparent, parent, or sibling?_No                               171 non-null    uint8\n",
      " 12  Does family have a history of substance abuse, especially from a close relative like a grandparent, parent, or sibling?_Yes                              171 non-null    uint8\n",
      " 13  Do you live with someone who has a habit of using drugs?_No                                                                                              171 non-null    uint8\n",
      " 14  Do you live with someone who has a habit of using drugs?_Yes                                                                                             171 non-null    uint8\n",
      " 15  Do you have friends that use drugs?_No                                                                                                                   171 non-null    uint8\n",
      " 16  Do you have friends that use drugs?_Yes                                                                                                                  171 non-null    uint8\n",
      " 17  Did you grow up or are currently in an area of poverty or low socioeconomic status?_No                                                                   171 non-null    uint8\n",
      " 18  Did you grow up or are currently in an area of poverty or low socioeconomic status?_Yes                                                                  171 non-null    uint8\n",
      " 19  Growing up, were parents rarely around, and did they not provide much supervision, discipline, or guidance?_No                                           171 non-null    uint8\n",
      " 20  Growing up, were parents rarely around, and did they not provide much supervision, discipline, or guidance?_Yes                                          171 non-null    uint8\n",
      " 21  Growing up (or currently), did you have drugs around you that you could easily access?_No                                                                171 non-null    uint8\n",
      " 22  Growing up (or currently), did you have drugs around you that you could easily access?_Yes                                                               171 non-null    uint8\n",
      " 23  Do you have a history of, or do you currently struggle with, a mental illness, such as personality disorder, Anxiety, depression, or schizophrenia?_No   171 non-null    uint8\n",
      " 24  Do you have a history of, or do you currently struggle with, a mental illness, such as personality disorder, Anxiety, depression, or schizophrenia?_Yes  171 non-null    uint8\n",
      " 25  Are you currently experiencing a significant transition in life, such as divorce, loss of a loved one, loss of a job, or changing schools?_No            171 non-null    uint8\n",
      " 26  Are you currently experiencing a significant transition in life, such as divorce, loss of a loved one, loss of a job, or changing schools?_Yes           171 non-null    uint8\n",
      " 27  Do you have a history of childhood trauma, such as physical, mental, or sexual abuse?_No                                                                 171 non-null    uint8\n",
      " 28  Do you have a history of childhood trauma, such as physical, mental, or sexual abuse?_Yes                                                                171 non-null    uint8\n",
      " 29  Did you start using drugs or drinking alcohol (even if it was only every once in a while) before you were a teenager?_No                                 171 non-null    uint8\n",
      " 30  Did you start using drugs or drinking alcohol (even if it was only every once in a while) before you were a teenager?_Yes                                171 non-null    uint8\n",
      "dtypes: int32(1), uint8(30)\n",
      "memory usage: 5.8 KB\n"
     ]
    }
   ],
   "source": [
    "data.info()"
   ]
  },
  {
   "cell_type": "markdown",
   "id": "5ffa9df7",
   "metadata": {},
   "source": [
    "## Define x and y "
   ]
  },
  {
   "cell_type": "code",
   "execution_count": 45,
   "id": "bc76d2bb",
   "metadata": {},
   "outputs": [
    {
     "data": {
      "text/plain": [
       "(171, 31)"
      ]
     },
     "execution_count": 45,
     "metadata": {},
     "output_type": "execute_result"
    }
   ],
   "source": [
    "data.shape"
   ]
  },
  {
   "cell_type": "code",
   "execution_count": 46,
   "id": "942ccff3",
   "metadata": {},
   "outputs": [],
   "source": [
    "X = data.drop('Score (0/10)', axis=1).values\n",
    "y = data['Score (0/10)'].values"
   ]
  },
  {
   "cell_type": "code",
   "execution_count": 47,
   "id": "1ba86b3d",
   "metadata": {},
   "outputs": [
    {
     "name": "stdout",
     "output_type": "stream",
     "text": [
      "[[0 1 1 ... 0 1 0]\n",
      " [0 1 1 ... 0 1 0]\n",
      " [0 1 0 ... 0 0 1]\n",
      " ...\n",
      " [0 1 1 ... 0 0 1]\n",
      " [0 1 1 ... 0 1 0]\n",
      " [0 1 1 ... 0 1 0]]\n"
     ]
    }
   ],
   "source": [
    "print(X)"
   ]
  },
  {
   "cell_type": "code",
   "execution_count": 48,
   "id": "1313e3a5",
   "metadata": {
    "scrolled": true
   },
   "outputs": [
    {
     "name": "stdout",
     "output_type": "stream",
     "text": [
      "[ 3  5  4  5  5  4  6  5  6  4  5  4  5  6  8  4  6  8  8  6  7  8  7  9\n",
      " 10  9  7 10  9  8 10  9 10 10  9  9  9 10  9  4  7  7  6  7  6  7  5  6\n",
      "  7  5  3  8  9  7  6  6  5  7  5  4  9  6  8  6  4  3  5  7  7  4  4  4\n",
      "  6  8  7  5 10  6  9  4  7  6 10  5  8  4  6  5  6  4  8  4  3  6  9  8\n",
      "  6  6  4  6  5  5  5  6  3  7  7  6  4 10  2  4  3  5  7  2  3  3  5  8\n",
      "  6  5  8  4  6  3  3  5 10  5  2  2  7  6  6  6  4  1  4  4  5  3  5  6\n",
      "  3  3  1  6  7  3  3  6  8  4  5  6  3  8  3  2  4  2  3  4  4  5  9  5\n",
      "  6  3  5]\n"
     ]
    }
   ],
   "source": [
    "print(y)"
   ]
  },
  {
   "cell_type": "markdown",
   "id": "9b88144f",
   "metadata": {},
   "source": [
    "## Split the dataset in training set and test set"
   ]
  },
  {
   "cell_type": "code",
   "execution_count": 49,
   "id": "3ea4ecb4",
   "metadata": {},
   "outputs": [],
   "source": [
    "from sklearn.model_selection import train_test_split\n",
    "X_train, X_test, y_train, y_test = train_test_split(X, y,test_size=0.25,random_state=0)"
   ]
  },
  {
   "cell_type": "markdown",
   "id": "9331b101",
   "metadata": {},
   "source": [
    "## Train the model on the training set"
   ]
  },
  {
   "cell_type": "code",
   "execution_count": 50,
   "id": "b81d4a32",
   "metadata": {},
   "outputs": [
    {
     "data": {
      "text/plain": [
       "LinearRegression()"
      ]
     },
     "execution_count": 50,
     "metadata": {},
     "output_type": "execute_result"
    }
   ],
   "source": [
    "from sklearn.linear_model import LinearRegression\n",
    "ml=LinearRegression()\n",
    "ml.fit(X_train,y_train)"
   ]
  },
  {
   "cell_type": "markdown",
   "id": "c7f75baf",
   "metadata": {},
   "source": [
    "## Predict the test set results "
   ]
  },
  {
   "cell_type": "code",
   "execution_count": 51,
   "id": "1499cabd",
   "metadata": {},
   "outputs": [
    {
     "name": "stdout",
     "output_type": "stream",
     "text": [
      "[ 6.04088707  3.02661066  6.00933799  5.96193155  2.9455011   4.98984373\n",
      "  4.94943309  4.9751305   2.99922644  3.98841586  0.98148716  3.00563801\n",
      "  3.96967284  5.99565217  2.96964042  5.94268128  9.99874596  8.00510611\n",
      "  6.00933799  7.98941364  4.9515075  10.00728478  4.93266888  5.05850173\n",
      "  8.99492557  9.97978716  4.00746663  3.98858192  1.99758917  2.96214751\n",
      "  6.98381418  4.98398505  2.99655301  6.98215525  6.05033505  6.01350285\n",
      "  6.9849255   5.96445852  3.99237971  5.97827275 10.00728478  9.99874596\n",
      "  3.00949262]\n"
     ]
    }
   ],
   "source": [
    "y_pred=ml.predict(X_test)\n",
    "print(y_pred)"
   ]
  },
  {
   "cell_type": "code",
   "execution_count": 52,
   "id": "64c053f1",
   "metadata": {},
   "outputs": [
    {
     "data": {
      "text/plain": [
       "array([6.42171724])"
      ]
     },
     "execution_count": 52,
     "metadata": {},
     "output_type": "execute_result"
    }
   ],
   "source": [
    "ml.predict([[0, 1, 1, 0, 0, 1, 0, 0, 0, 0, 0, 1, 0, 1, 0, 1, 0, 1, 1, 0, 1, 0, 0, 1, 0, 1, 1, 1, 1, 0]])"
   ]
  },
  {
   "cell_type": "markdown",
   "id": "9b372a01",
   "metadata": {},
   "source": [
    "## Evaluate the model"
   ]
  },
  {
   "cell_type": "code",
   "execution_count": 53,
   "id": "c466a3b7",
   "metadata": {},
   "outputs": [
    {
     "data": {
      "text/plain": [
       "0.9998517683592607"
      ]
     },
     "execution_count": 53,
     "metadata": {},
     "output_type": "execute_result"
    }
   ],
   "source": [
    "from sklearn.metrics import r2_score\n",
    "r2_score(y_test,y_pred)"
   ]
  },
  {
   "cell_type": "markdown",
   "id": "d5f0c8db",
   "metadata": {},
   "source": [
    "## Plot the results"
   ]
  },
  {
   "cell_type": "code",
   "execution_count": 54,
   "id": "197a30e7",
   "metadata": {},
   "outputs": [
    {
     "data": {
      "text/plain": [
       "Text(0.5, 1.0, 'Actual vs. Predicted')"
      ]
     },
     "execution_count": 54,
     "metadata": {},
     "output_type": "execute_result"
    },
    {
     "data": {
      "image/png": "[encoded data removed]",
      "text/plain": [
       "<Figure size 1080x720 with 1 Axes>"
      ]
     },
     "metadata": {
      "needs_background": "light"
     },
     "output_type": "display_data"
    }
   ],
   "source": [
    "import matplotlib.pyplot as plt\n",
    "plt.figure(figsize=(15,10))\n",
    "plt.scatter(y_test,y_pred)\n",
    "plt.xlabel('Actual')\n",
    "plt.ylabel('Predicted')\n",
    "plt.title('Actual vs. Predicted')"
   ]
  },
  {
   "cell_type": "markdown",
   "id": "1d41ea88",
   "metadata": {},
   "source": [
    "## Predicted value"
   ]
  },
  {
   "cell_type": "code",
   "execution_count": 55,
   "id": "38a86ae2",
   "metadata": {},
   "outputs": [
    {
     "data": {
      "text/html": [
       "<div>\n",
       "<style scoped>\n",
       "    .dataframe tbody tr th:only-of-type {\n",
       "        vertical-align: middle;\n",
       "    }\n",
       "\n",
       "    .dataframe tbody tr th {\n",
       "        vertical-align: top;\n",
       "    }\n",
       "\n",
       "    .dataframe thead th {\n",
       "        text-align: right;\n",
       "    }\n",
       "</style>\n",
       "<table border=\"1\" class=\"dataframe\">\n",
       "  <thead>\n",
       "    <tr style=\"text-align: right;\">\n",
       "      <th></th>\n",
       "      <th>Actual Value</th>\n",
       "      <th>Predicted value</th>\n",
       "      <th>Difference</th>\n",
       "    </tr>\n",
       "  </thead>\n",
       "  <tbody>\n",
       "    <tr>\n",
       "      <th>0</th>\n",
       "      <td>6</td>\n",
       "      <td>6.040887</td>\n",
       "      <td>-0.040887</td>\n",
       "    </tr>\n",
       "    <tr>\n",
       "      <th>1</th>\n",
       "      <td>3</td>\n",
       "      <td>3.026611</td>\n",
       "      <td>-0.026611</td>\n",
       "    </tr>\n",
       "    <tr>\n",
       "      <th>2</th>\n",
       "      <td>6</td>\n",
       "      <td>6.009338</td>\n",
       "      <td>-0.009338</td>\n",
       "    </tr>\n",
       "    <tr>\n",
       "      <th>3</th>\n",
       "      <td>6</td>\n",
       "      <td>5.961932</td>\n",
       "      <td>0.038068</td>\n",
       "    </tr>\n",
       "    <tr>\n",
       "      <th>4</th>\n",
       "      <td>3</td>\n",
       "      <td>2.945501</td>\n",
       "      <td>0.054499</td>\n",
       "    </tr>\n",
       "    <tr>\n",
       "      <th>5</th>\n",
       "      <td>5</td>\n",
       "      <td>4.989844</td>\n",
       "      <td>0.010156</td>\n",
       "    </tr>\n",
       "    <tr>\n",
       "      <th>6</th>\n",
       "      <td>5</td>\n",
       "      <td>4.949433</td>\n",
       "      <td>0.050567</td>\n",
       "    </tr>\n",
       "    <tr>\n",
       "      <th>7</th>\n",
       "      <td>5</td>\n",
       "      <td>4.975131</td>\n",
       "      <td>0.024869</td>\n",
       "    </tr>\n",
       "    <tr>\n",
       "      <th>8</th>\n",
       "      <td>3</td>\n",
       "      <td>2.999226</td>\n",
       "      <td>0.000774</td>\n",
       "    </tr>\n",
       "    <tr>\n",
       "      <th>9</th>\n",
       "      <td>4</td>\n",
       "      <td>3.988416</td>\n",
       "      <td>0.011584</td>\n",
       "    </tr>\n",
       "    <tr>\n",
       "      <th>10</th>\n",
       "      <td>1</td>\n",
       "      <td>0.981487</td>\n",
       "      <td>0.018513</td>\n",
       "    </tr>\n",
       "    <tr>\n",
       "      <th>11</th>\n",
       "      <td>3</td>\n",
       "      <td>3.005638</td>\n",
       "      <td>-0.005638</td>\n",
       "    </tr>\n",
       "    <tr>\n",
       "      <th>12</th>\n",
       "      <td>4</td>\n",
       "      <td>3.969673</td>\n",
       "      <td>0.030327</td>\n",
       "    </tr>\n",
       "    <tr>\n",
       "      <th>13</th>\n",
       "      <td>6</td>\n",
       "      <td>5.995652</td>\n",
       "      <td>0.004348</td>\n",
       "    </tr>\n",
       "    <tr>\n",
       "      <th>14</th>\n",
       "      <td>3</td>\n",
       "      <td>2.969640</td>\n",
       "      <td>0.030360</td>\n",
       "    </tr>\n",
       "    <tr>\n",
       "      <th>15</th>\n",
       "      <td>6</td>\n",
       "      <td>5.942681</td>\n",
       "      <td>0.057319</td>\n",
       "    </tr>\n",
       "    <tr>\n",
       "      <th>16</th>\n",
       "      <td>10</td>\n",
       "      <td>9.998746</td>\n",
       "      <td>0.001254</td>\n",
       "    </tr>\n",
       "    <tr>\n",
       "      <th>17</th>\n",
       "      <td>8</td>\n",
       "      <td>8.005106</td>\n",
       "      <td>-0.005106</td>\n",
       "    </tr>\n",
       "    <tr>\n",
       "      <th>18</th>\n",
       "      <td>6</td>\n",
       "      <td>6.009338</td>\n",
       "      <td>-0.009338</td>\n",
       "    </tr>\n",
       "    <tr>\n",
       "      <th>19</th>\n",
       "      <td>8</td>\n",
       "      <td>7.989414</td>\n",
       "      <td>0.010586</td>\n",
       "    </tr>\n",
       "  </tbody>\n",
       "</table>\n",
       "</div>"
      ],
      "text/plain": [
       "    Actual Value  Predicted value  Difference\n",
       "0              6         6.040887   -0.040887\n",
       "1              3         3.026611   -0.026611\n",
       "2              6         6.009338   -0.009338\n",
       "3              6         5.961932    0.038068\n",
       "4              3         2.945501    0.054499\n",
       "5              5         4.989844    0.010156\n",
       "6              5         4.949433    0.050567\n",
       "7              5         4.975131    0.024869\n",
       "8              3         2.999226    0.000774\n",
       "9              4         3.988416    0.011584\n",
       "10             1         0.981487    0.018513\n",
       "11             3         3.005638   -0.005638\n",
       "12             4         3.969673    0.030327\n",
       "13             6         5.995652    0.004348\n",
       "14             3         2.969640    0.030360\n",
       "15             6         5.942681    0.057319\n",
       "16            10         9.998746    0.001254\n",
       "17             8         8.005106   -0.005106\n",
       "18             6         6.009338   -0.009338\n",
       "19             8         7.989414    0.010586"
      ]
     },
     "execution_count": 55,
     "metadata": {},
     "output_type": "execute_result"
    }
   ],
   "source": [
    "pred_y_df=pd.DataFrame({'Actual Value':y_test,'Predicted value':y_pred,'Difference':y_test-y_pred})\n",
    "pred_y_df[0:20]"
   ]
  },
  {
   "cell_type": "markdown",
   "id": "2746891d",
   "metadata": {},
   "source": [
    "## Save model"
   ]
  },
  {
   "cell_type": "code",
   "execution_count": 59,
   "id": "251b218f",
   "metadata": {},
   "outputs": [],
   "source": [
    "import pickle\n",
    "with open('predictor.pickle', 'wb') as file:\n",
    "    pickle.dump(ml, file)"
   ]
  },
  {
   "cell_type": "code",
   "execution_count": 60,
   "id": "98f1380d",
   "metadata": {},
   "outputs": [
    {
     "data": {
      "text/plain": [
       "array([6.42171724])"
      ]
     },
     "execution_count": 60,
     "metadata": {},
     "output_type": "execute_result"
    }
   ],
   "source": [
    "pred_value = ml.predict([[0, 1, 1, 0, 0, 1, 0, 0, 0, 0, 0, 1, 0, 1, 0, 1, 0, 1, 1, 0, 1, 0, 0, 1, 0, 1, 1, 1, 1, 0]])\n",
    "pred_value"
   ]
  },
  {
   "cell_type": "code",
   "execution_count": null,
   "id": "ebd8cb72",
   "metadata": {},
   "outputs": [],
   "source": []
  }
 ],
 "metadata": {
  "kernelspec": {
   "display_name": "Python 3 (ipykernel)",
   "language": "python",
   "name": "python3"
  },
  "language_info": {
   "codemirror_mode": {
    "name": "ipython",
    "version": 3
   },
   "file_extension": ".py",
   "mimetype": "text/x-python",
   "name": "python",
   "nbconvert_exporter": "python",
   "pygments_lexer": "ipython3",
   "version": "3.9.12"
  }
 },
 "nbformat": 4,
 "nbformat_minor": 5
}
